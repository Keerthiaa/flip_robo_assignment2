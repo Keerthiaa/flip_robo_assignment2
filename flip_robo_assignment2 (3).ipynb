{
 "cells": [
  {
   "cell_type": "markdown",
   "metadata": {},
   "source": [
    "part1"
   ]
  },
  {
   "cell_type": "markdown",
   "metadata": {},
   "source": [
    "program to scrape job-title, job-location, company_name, experience_required"
   ]
  },
  {
   "cell_type": "code",
   "execution_count": 605,
   "metadata": {},
   "outputs": [],
   "source": [
    "from bs4 import BeautifulSoup\n",
    "import requests\n",
    "import selenium\n",
    "from selenium import webdriver\n",
    "import time\n",
    "\n",
    "from selenium.common.exceptions import StaleElementReferenceException, NoSuchElementException ,ElementNotInteractableException,InvalidElementStateException"
   ]
  },
  {
   "cell_type": "markdown",
   "metadata": {},
   "source": [
    "<a class=\"title fw500 ellipsis\" href=\"https://www.naukri.com/job-listings-data-analyst-tech-mahindra-ltd-bangalore-bengaluru-4-to-8-years-240321003902?src=jobsearchDesk&amp;sid=16171035587582049&amp;xp=3&amp;px=1\" title=\"Data Analyst\" target=\"_blank\">Data Analyst</a>"
   ]
  },
  {
   "cell_type": "code",
   "execution_count": 11,
   "metadata": {},
   "outputs": [],
   "source": [
    "driver= webdriver.Chrome(r\"C:\\Users\\Admin\\Downloads\\chromedriver.exe\")\n"
   ]
  },
  {
   "cell_type": "code",
   "execution_count": 12,
   "metadata": {},
   "outputs": [],
   "source": [
    "url='https://www.naukri.com/data-analyst-jobs-in-bangalore-bengaluru'"
   ]
  },
  {
   "cell_type": "code",
   "execution_count": 13,
   "metadata": {},
   "outputs": [],
   "source": [
    "driver.get(url)"
   ]
  },
  {
   "cell_type": "code",
   "execution_count": 14,
   "metadata": {},
   "outputs": [],
   "source": [
    "job_titles=[]\n",
    "job_location=[]\n",
    "company_name=[]\n",
    "experience_required=[]"
   ]
  },
  {
   "cell_type": "code",
   "execution_count": 42,
   "metadata": {},
   "outputs": [],
   "source": [
    "title=driver.find_elements_by_xpath(\"//a[@class='title fw500 ellipsis']\")\n",
    "for t in title[:10]:\n",
    "    job_titles.append(t.text)"
   ]
  },
  {
   "cell_type": "code",
   "execution_count": 43,
   "metadata": {},
   "outputs": [
    {
     "data": {
      "text/plain": [
       "['Data Analyst',\n",
       " 'Data Analyst',\n",
       " 'Data Analyst',\n",
       " 'Data Analyst',\n",
       " 'Data Analyst',\n",
       " 'Hiring For Data Analyst',\n",
       " 'Senior Data Analyst',\n",
       " 'Senior Data Analyst',\n",
       " 'Data Analyst (SQL, Excel, R/Python, Dashboards, PowerBI) - Contract',\n",
       " 'Specialist I / II Data Analyst']"
      ]
     },
     "execution_count": 43,
     "metadata": {},
     "output_type": "execute_result"
    }
   ],
   "source": [
    "job_titles"
   ]
  },
  {
   "cell_type": "code",
   "execution_count": 45,
   "metadata": {},
   "outputs": [],
   "source": [
    "location=driver.find_elements_by_xpath(\"//li[@class='fleft grey-text br2 placeHolderLi location']\")\n",
    "for j in location[0:10]:\n",
    "    job_location.append(j.text)"
   ]
  },
  {
   "cell_type": "code",
   "execution_count": 46,
   "metadata": {},
   "outputs": [
    {
     "data": {
      "text/plain": [
       "['Bangalore/Bengaluru(Devalapur)',\n",
       " 'Bangalore/Bengaluru',\n",
       " 'Bangalore/Bengaluru',\n",
       " 'Bangalore/Bengaluru',\n",
       " 'Bangalore/Bengaluru',\n",
       " 'Hyderabad/Secunderabad, Pune, Chennai, Bangalore/Bengaluru, Delhi / NCR, Mumbai (All Areas)',\n",
       " 'Bangalore/Bengaluru',\n",
       " 'Bangalore/Bengaluru',\n",
       " 'Bangalore/Bengaluru',\n",
       " 'Bangalore/Bengaluru']"
      ]
     },
     "execution_count": 46,
     "metadata": {},
     "output_type": "execute_result"
    }
   ],
   "source": [
    "job_location"
   ]
  },
  {
   "cell_type": "code",
   "execution_count": 47,
   "metadata": {},
   "outputs": [],
   "source": [
    "company=driver.find_elements_by_xpath(\"//a[@class='subTitle ellipsis fleft']\")\n",
    "for c in company[0:10]:\n",
    "    company_name.append(c.text)"
   ]
  },
  {
   "cell_type": "code",
   "execution_count": 48,
   "metadata": {},
   "outputs": [
    {
     "data": {
      "text/plain": [
       "['Super India Tech Mark',\n",
       " 'tech mahindra ltd',\n",
       " 'GlaxoSmithKline Pharmaceuticals Limited',\n",
       " 'Myntra Designs Pvt. Ltd.',\n",
       " 'Xiaomi',\n",
       " 'Concentrix Daksh Services India Private Limited.',\n",
       " 'Cerner',\n",
       " 'Cerner Corporation',\n",
       " 'Flipkart Internet Private Limited',\n",
       " 'Philips India Limited']"
      ]
     },
     "execution_count": 48,
     "metadata": {},
     "output_type": "execute_result"
    }
   ],
   "source": [
    "company_name"
   ]
  },
  {
   "cell_type": "code",
   "execution_count": 49,
   "metadata": {},
   "outputs": [],
   "source": [
    "experience=driver.find_elements_by_xpath(\"//li[@class='fleft grey-text br2 placeHolderLi experience']\")\n",
    "for e in experience[0:10]:\n",
    "    experience_required.append(e.text)"
   ]
  },
  {
   "cell_type": "code",
   "execution_count": 50,
   "metadata": {},
   "outputs": [
    {
     "data": {
      "text/plain": [
       "['0-2 Yrs',\n",
       " '4-8 Yrs',\n",
       " '2-7 Yrs',\n",
       " '3-6 Yrs',\n",
       " '2-6 Yrs',\n",
       " '2-7 Yrs',\n",
       " '3-5 Yrs',\n",
       " '4-9 Yrs',\n",
       " '1-5 Yrs',\n",
       " '5-10 Yrs']"
      ]
     },
     "execution_count": 50,
     "metadata": {},
     "output_type": "execute_result"
    }
   ],
   "source": [
    "experience_required"
   ]
  },
  {
   "cell_type": "code",
   "execution_count": 51,
   "metadata": {},
   "outputs": [
    {
     "name": "stdout",
     "output_type": "stream",
     "text": [
      "10 10 10 10\n"
     ]
    }
   ],
   "source": [
    "print(len(job_titles),len(job_location),len(company_name),len(experience_required))"
   ]
  },
  {
   "cell_type": "code",
   "execution_count": 53,
   "metadata": {},
   "outputs": [],
   "source": [
    "import pandas as pd"
   ]
  },
  {
   "cell_type": "code",
   "execution_count": 54,
   "metadata": {},
   "outputs": [],
   "source": [
    "df={'job_titles':job_titles,'job_location':job_location,'company_name':company_name,'experience_required':experience_required}\n",
    "dataset = pd.DataFrame(data = df)"
   ]
  },
  {
   "cell_type": "code",
   "execution_count": 55,
   "metadata": {},
   "outputs": [
    {
     "data": {
      "text/html": [
       "<div>\n",
       "<style scoped>\n",
       "    .dataframe tbody tr th:only-of-type {\n",
       "        vertical-align: middle;\n",
       "    }\n",
       "\n",
       "    .dataframe tbody tr th {\n",
       "        vertical-align: top;\n",
       "    }\n",
       "\n",
       "    .dataframe thead th {\n",
       "        text-align: right;\n",
       "    }\n",
       "</style>\n",
       "<table border=\"1\" class=\"dataframe\">\n",
       "  <thead>\n",
       "    <tr style=\"text-align: right;\">\n",
       "      <th></th>\n",
       "      <th>job_titles</th>\n",
       "      <th>job_location</th>\n",
       "      <th>company_name</th>\n",
       "      <th>experience_required</th>\n",
       "    </tr>\n",
       "  </thead>\n",
       "  <tbody>\n",
       "    <tr>\n",
       "      <th>0</th>\n",
       "      <td>Data Analyst</td>\n",
       "      <td>Bangalore/Bengaluru(Devalapur)</td>\n",
       "      <td>Super India Tech Mark</td>\n",
       "      <td>0-2 Yrs</td>\n",
       "    </tr>\n",
       "    <tr>\n",
       "      <th>1</th>\n",
       "      <td>Data Analyst</td>\n",
       "      <td>Bangalore/Bengaluru</td>\n",
       "      <td>tech mahindra ltd</td>\n",
       "      <td>4-8 Yrs</td>\n",
       "    </tr>\n",
       "    <tr>\n",
       "      <th>2</th>\n",
       "      <td>Data Analyst</td>\n",
       "      <td>Bangalore/Bengaluru</td>\n",
       "      <td>GlaxoSmithKline Pharmaceuticals Limited</td>\n",
       "      <td>2-7 Yrs</td>\n",
       "    </tr>\n",
       "    <tr>\n",
       "      <th>3</th>\n",
       "      <td>Data Analyst</td>\n",
       "      <td>Bangalore/Bengaluru</td>\n",
       "      <td>Myntra Designs Pvt. Ltd.</td>\n",
       "      <td>3-6 Yrs</td>\n",
       "    </tr>\n",
       "    <tr>\n",
       "      <th>4</th>\n",
       "      <td>Data Analyst</td>\n",
       "      <td>Bangalore/Bengaluru</td>\n",
       "      <td>Xiaomi</td>\n",
       "      <td>2-6 Yrs</td>\n",
       "    </tr>\n",
       "    <tr>\n",
       "      <th>5</th>\n",
       "      <td>Hiring For Data Analyst</td>\n",
       "      <td>Hyderabad/Secunderabad, Pune, Chennai, Bangalo...</td>\n",
       "      <td>Concentrix Daksh Services India Private Limited.</td>\n",
       "      <td>2-7 Yrs</td>\n",
       "    </tr>\n",
       "    <tr>\n",
       "      <th>6</th>\n",
       "      <td>Senior Data Analyst</td>\n",
       "      <td>Bangalore/Bengaluru</td>\n",
       "      <td>Cerner</td>\n",
       "      <td>3-5 Yrs</td>\n",
       "    </tr>\n",
       "    <tr>\n",
       "      <th>7</th>\n",
       "      <td>Senior Data Analyst</td>\n",
       "      <td>Bangalore/Bengaluru</td>\n",
       "      <td>Cerner Corporation</td>\n",
       "      <td>4-9 Yrs</td>\n",
       "    </tr>\n",
       "    <tr>\n",
       "      <th>8</th>\n",
       "      <td>Data Analyst (SQL, Excel, R/Python, Dashboards...</td>\n",
       "      <td>Bangalore/Bengaluru</td>\n",
       "      <td>Flipkart Internet Private Limited</td>\n",
       "      <td>1-5 Yrs</td>\n",
       "    </tr>\n",
       "    <tr>\n",
       "      <th>9</th>\n",
       "      <td>Specialist I / II Data Analyst</td>\n",
       "      <td>Bangalore/Bengaluru</td>\n",
       "      <td>Philips India Limited</td>\n",
       "      <td>5-10 Yrs</td>\n",
       "    </tr>\n",
       "  </tbody>\n",
       "</table>\n",
       "</div>"
      ],
      "text/plain": [
       "                                          job_titles  \\\n",
       "0                                       Data Analyst   \n",
       "1                                       Data Analyst   \n",
       "2                                       Data Analyst   \n",
       "3                                       Data Analyst   \n",
       "4                                       Data Analyst   \n",
       "5                            Hiring For Data Analyst   \n",
       "6                                Senior Data Analyst   \n",
       "7                                Senior Data Analyst   \n",
       "8  Data Analyst (SQL, Excel, R/Python, Dashboards...   \n",
       "9                     Specialist I / II Data Analyst   \n",
       "\n",
       "                                        job_location  \\\n",
       "0                     Bangalore/Bengaluru(Devalapur)   \n",
       "1                                Bangalore/Bengaluru   \n",
       "2                                Bangalore/Bengaluru   \n",
       "3                                Bangalore/Bengaluru   \n",
       "4                                Bangalore/Bengaluru   \n",
       "5  Hyderabad/Secunderabad, Pune, Chennai, Bangalo...   \n",
       "6                                Bangalore/Bengaluru   \n",
       "7                                Bangalore/Bengaluru   \n",
       "8                                Bangalore/Bengaluru   \n",
       "9                                Bangalore/Bengaluru   \n",
       "\n",
       "                                       company_name experience_required  \n",
       "0                             Super India Tech Mark             0-2 Yrs  \n",
       "1                                 tech mahindra ltd             4-8 Yrs  \n",
       "2           GlaxoSmithKline Pharmaceuticals Limited             2-7 Yrs  \n",
       "3                          Myntra Designs Pvt. Ltd.             3-6 Yrs  \n",
       "4                                            Xiaomi             2-6 Yrs  \n",
       "5  Concentrix Daksh Services India Private Limited.             2-7 Yrs  \n",
       "6                                            Cerner             3-5 Yrs  \n",
       "7                                Cerner Corporation             4-9 Yrs  \n",
       "8                 Flipkart Internet Private Limited             1-5 Yrs  \n",
       "9                             Philips India Limited            5-10 Yrs  "
      ]
     },
     "execution_count": 55,
     "metadata": {},
     "output_type": "execute_result"
    }
   ],
   "source": [
    "dataset"
   ]
  },
  {
   "cell_type": "markdown",
   "metadata": {},
   "source": [
    "PART 2"
   ]
  },
  {
   "cell_type": "markdown",
   "metadata": {},
   "source": [
    "program to scrape data for “Data Scientist” Job position in\n",
    "“Bangalore” location. \n",
    "inforamtion required=\n",
    "job-title\n",
    "job-location\n",
    "company_name\n",
    "full job-description"
   ]
  },
  {
   "cell_type": "code",
   "execution_count": 85,
   "metadata": {},
   "outputs": [],
   "source": [
    "driver= webdriver.Chrome(r\"C:\\Users\\Admin\\Downloads\\chromedriver.exe\")"
   ]
  },
  {
   "cell_type": "code",
   "execution_count": 86,
   "metadata": {},
   "outputs": [],
   "source": [
    "url=('https://www.naukri.com')"
   ]
  },
  {
   "cell_type": "code",
   "execution_count": 87,
   "metadata": {},
   "outputs": [],
   "source": [
    "driver.get(url)"
   ]
  },
  {
   "cell_type": "code",
   "execution_count": 88,
   "metadata": {},
   "outputs": [],
   "source": [
    "job_titles=[]\n",
    "job_location=[]\n",
    "company_name=[]\n",
    "job_description=[]"
   ]
  },
  {
   "cell_type": "code",
   "execution_count": 89,
   "metadata": {},
   "outputs": [],
   "source": [
    "search_job=driver.find_element_by_id('qsb-keyword-sugg')\n",
    "search_job.send_keys(\"Data Scientist\")\n",
    "search_loc=driver.find_element_by_id('qsb-location-sugg')\n",
    "search_loc.send_keys(\"Bangalore\")"
   ]
  },
  {
   "cell_type": "code",
   "execution_count": 90,
   "metadata": {},
   "outputs": [],
   "source": [
    "search_btn=driver.find_element_by_xpath(\"//div[@class='search-btn']/button\")\n",
    "search_btn.click()"
   ]
  },
  {
   "cell_type": "code",
   "execution_count": 91,
   "metadata": {},
   "outputs": [],
   "source": [
    "url=\"https://www.naukri.com/data-scientist-jobs-in-bangalore-bengaluru?k=data%20scientist&l=bangalore%20bengaluru\""
   ]
  },
  {
   "cell_type": "raw",
   "metadata": {},
   "source": [
    "driver.get(url)"
   ]
  },
  {
   "cell_type": "code",
   "execution_count": null,
   "metadata": {},
   "outputs": [],
   "source": [
    "<a class=\"title fw500 ellipsis\" href=\"https://www.naukri.com/job-listings-data-scientist-cronj-it-technologies-private-limited-bangalore-bengaluru-0-to-1-years-310321002339?src=jobsearchDesk&amp;sid=16178751734463149&amp;xp=1&amp;px=1\" title=\"Data Scientist\" target=\"_blank\">Data Scientist</a>"
   ]
  },
  {
   "cell_type": "code",
   "execution_count": 94,
   "metadata": {},
   "outputs": [],
   "source": [
    "title=driver.find_elements_by_xpath(\"//a[@class='title fw500 ellipsis']\")\n",
    "for j in title[0:10]:\n",
    "    job_titles.append(j.text)"
   ]
  },
  {
   "cell_type": "code",
   "execution_count": 95,
   "metadata": {},
   "outputs": [
    {
     "data": {
      "text/plain": [
       "['Data Scientist',\n",
       " 'Opportunity For Data Scientist Internship - Bengaluru',\n",
       " 'Data Scientist - Machine Learning',\n",
       " 'Data Scientist || Data Analyst || Data science',\n",
       " 'Data Scientist - IBM Garage',\n",
       " 'GAMMA Lead Data Scientist',\n",
       " 'DBCG IND - GAMMA Senior Data Scientist',\n",
       " 'Data Scientist/Senior Data Scientist',\n",
       " 'Senior Data Scientist | CES IT LTD | CMMI Level 5',\n",
       " 'Global Medical Data Scientist']"
      ]
     },
     "execution_count": 95,
     "metadata": {},
     "output_type": "execute_result"
    }
   ],
   "source": [
    "job_titles"
   ]
  },
  {
   "cell_type": "code",
   "execution_count": 96,
   "metadata": {},
   "outputs": [],
   "source": [
    "loc=driver.find_elements_by_xpath(\"//li[@class='fleft grey-text br2 placeHolderLi location']\")\n",
    "for l in loc[0:10]:\n",
    "    job_location.append(l.text)"
   ]
  },
  {
   "cell_type": "code",
   "execution_count": 97,
   "metadata": {},
   "outputs": [
    {
     "data": {
      "text/plain": [
       "['Bangalore/Bengaluru',\n",
       " 'Bangalore/Bengaluru',\n",
       " 'Bangalore/Bengaluru',\n",
       " 'Navi Mumbai, Bangalore/Bengaluru',\n",
       " 'Noida, Hyderabad/Secunderabad, Bangalore/Bengaluru',\n",
       " 'Mumbai, New Delhi, Chennai, Bangalore/Bengaluru',\n",
       " 'Mumbai, New Delhi, Chennai, Bangalore/Bengaluru',\n",
       " 'Hyderabad/Secunderabad, Pune, Chennai, Bangalore/Bengaluru, Mumbai (All Areas)',\n",
       " 'Kolkata, Mumbai, Hyderabad/Secunderabad, Pune, Chennai, Bangalore/Bengaluru, Delhi / NCR',\n",
       " 'Bangalore/Bengaluru']"
      ]
     },
     "execution_count": 97,
     "metadata": {},
     "output_type": "execute_result"
    }
   ],
   "source": [
    "job_location"
   ]
  },
  {
   "cell_type": "code",
   "execution_count": 99,
   "metadata": {},
   "outputs": [],
   "source": [
    "company=driver.find_elements_by_xpath(\"//a[@class='subTitle ellipsis fleft']\")\n",
    "for c in company[0:10]:\n",
    "    company_name.append(c.text)"
   ]
  },
  {
   "cell_type": "code",
   "execution_count": 100,
   "metadata": {},
   "outputs": [
    {
     "data": {
      "text/plain": [
       "['CronJ IT Technologies Private Limited',\n",
       " 'Corner Stone Solutions',\n",
       " 'AugmatrixGo',\n",
       " 'Inspiration Manpower Consultancy Pvt. Ltd.',\n",
       " 'IBM India Pvt. Limited',\n",
       " 'Boston Consulting Group',\n",
       " 'Boston Consulting Group',\n",
       " 'GANIT BUSINESS SOLUTIONS PRIVATE LIMITED',\n",
       " 'CES Ltd.',\n",
       " 'GlaxoSmithKline Pharmaceuticals Limited']"
      ]
     },
     "execution_count": 100,
     "metadata": {},
     "output_type": "execute_result"
    }
   ],
   "source": [
    "company_name"
   ]
  },
  {
   "cell_type": "code",
   "execution_count": 101,
   "metadata": {},
   "outputs": [],
   "source": [
    "Job_link=[]\n",
    "url_tags=driver.find_elements_by_xpath(\"//a[@class='title fw500 ellipsis']\")\n",
    "for j in url_tags[0:10]:\n",
    "    Job_link.append(j.get_attribute('href'))\n",
    "#Making for loop for extracting average ratings of every phone\n",
    "for j in Job_link[0:10]:\n",
    "    driver.get(j)\n",
    "    try:\n",
    "        job_description.append((driver.find_element_by_xpath(\"//section[@class='job-desc']\")).text)\n",
    "    except NoSuchElementException:\n",
    "        job_description.append(\"NA\")\n"
   ]
  },
  {
   "cell_type": "code",
   "execution_count": 102,
   "metadata": {},
   "outputs": [
    {
     "data": {
      "text/plain": [
       "['Job description\\nResponsibilities and Duties\\nCreate innovative solutions using data across sales, health care and related fields for building object detection models, classification models, recommendation engine, sentiment analysis etc.\\nFamiliarity with deep learning algorithms and frameworks like TensorFlow, Pytorch, Keras.\\nGood to go with NLP and NLTK\\nDay-to-day responsibilities include use, customize and create algorithms/models for specific tasks in data science.\\nGet exposed to and work on cutting-edge products based on ML and AI to create innovative industry solutions.\\nWork on real-life projects involving Computer Vision, NLP and other AI techniques,\\nUsing innovative ideas to collect, curate or synthesize data.\\nModel the problem into an ML/DL framework.\\nDeploy models to real time staging servers.\\nFlexibility in working independently and do needful research whenever required.\\nRequired Experience, Skills and Qualifications\\nKnowledge of Python\\nKnowledge in libraries like OpenCV, Scikit Learn, NumPy etc.\\nScripting\\nUnderstanding of different frameworks like Pytorch, TensorFlow, Keras etc.\\nKnowledge on NLP\\nGood Knowledge on OOP and programing in python adapting to requirement\\nUnderstanding of AWS.\\nUnderstanding of any annotation tool.\\nAbility to write robust and testable code.\\nStrong knowledge in computer science fundamentals, algorithms, mathematics, linear algebra, probability and statistics.\\nStrong communication skills.\\nAn analytical mind with problem-solving abilities.\\nDegree in Computer Science, Mathematics, Computational Linguistics or similar field.\\nRoleTrainee\\nIndustry TypeIT-Software, Software Services\\nFunctional AreaIT Software - Application Programming, Maintenance\\nEmployment TypeFull Time, Permanent\\nRole CategoryOther\\nEducation\\nUG :Any Graduate in Any Specialization\\nPG :Any Postgraduate in Any Specialization\\nKey Skills\\nTensorflowJavaC++CphythonData StructuresArtificial IntelligenceMachine LearningMATLABsoftware DeveloperNLPAlgorithmsFresherComputer VisionLinear Algebra',\n",
       " 'Job description\\nLocation - Bangalore / Bengaluru\\nDuration- 6 Months\\nResponsibilities and Duties\\nCreate innovative solutions using data across sales, health care and related fields for building object detection models, chatbots, classification models etc.\\nFamiliarity with deep learning algorithms and frameworks like Pytorch, Keras, TensorFlow.\\nGood to go with NLP and NLTK\\nDay-to-day responsibilities include use, customize and create algorithms for specific tasks in data science.\\nGet exposed to and work on cutting-edge products based on ML and AI to create innovative industry solutions..\\nWork on real-life projects involving Computer Vision, NLP and other AI techniques,\\nUsing innovative ideas to collect, curate or synthesize data.\\nModel the problem into an ML/DL framework.\\nDeploy models to real time staging servers.\\nFlexibility in working independently and do needful research whenever required.\\nRequired Experience, Skills and Qualifications\\nKnowledge of Python\\nKnowledge in libraries like OpenCV, Scikit Learn, NumPy etc.\\nUnderstanding of different frameworks like Pytorch, TensorFlow, Keras etc.\\nKnowledge on NLP\\nGood Knowledge on OOP and programing in python adapting to requirement\\nUnderstanding of aws\\nUnderstanding of any annotation tool\\nAbility to write robust and testable code.\\nStrong knowledge in computer science fundamentals, algorithms, mathematics, linear algebra, probability and statistics.\\nStrong communication skills.\\nAn analytical mind with problem-solving abilities.\\nDegree in Computer Science, Mathematics, Computational Linguistics or similar field.\\nQualification:\\n\\nLooking for IIT, IIIT IISc, NIT, BIT & Equivalent colleges (Preferred)\\nRoleSoftware Developer\\nIndustry TypeIT-Software, Software Services\\nFunctional AreaIT Software - Application Programming, Maintenance\\nEmployment TypeFull Time, Temporary/Contractual\\nRole CategoryProgramming & Design\\nEducation\\nUG :B.Tech/B.E. in Any Specialization\\nPG :M.Tech in Any Specialization\\nKey Skills\\nNLPOpencvArtificial Intelligence\\nData ScienceRtensorflowAlgorithmsMATLABLinear AlgebraPython\\nSkills highlighted with ‘‘ are preferred keyskills',\n",
       " 'Job description\\nRoles and Responsibilities\\n\\n\\n- Selecting features, building and optimizing classifiers using machine learning techniques\\n\\n- Data mining using state-of-the-art methods\\n\\n- Enhancing data collection procedures to include information that is relevant for building analytic systems\\n\\n- Processing, cleansing, and verifying the integrity of data used for analysis\\n\\n- Doing ad-hoc analysis and presenting results in a clear manner\\n\\n- Creating automated anomaly detection systems and constant tracking of its performance\\n\\nSkills Required :\\n\\n- Excellent understanding of machine learning techniques and algorithms, such as k-NN, Naive Bayes, SVM, Decision Forests, etc.\\n\\n- Experiences with one or more of the following is highly desirable: HPC/Parallelization, operationalizing ML models; cloud computing (e.g. Google Cloud, AWS, etc.); familiarity with ML frameworks such as Tensorflow, Theano, MXNet, etc\\n\\n- Good experience in a few of the following areas: deep neural networks, reinforcement learning, Markov Random Fields, Bayesian networks, semi-supervised learning, computer vision, image processing, signal processing, distributed computing, and/or numerical optimization\\n\\n- 2+ years of experience with computer vision and deep learning solutions, including image classification, object detection, segmentation, and equivalent computer vision-based vision tasks\\n\\n- Experience with common data science toolkits, such as R, Weka, NumPy, etc . Excellence in at least one of these is highly desirable\\n\\n- Proficiency in using query languages such as SQL, Hive, Pig\\n\\n- Good applied statistics skills, such as distributions, statistical testing, regression, etc.\\n\\n- Good scripting and programming skills\\n\\n- Data-oriented personality\\n\\n- B.Tech/M.Tech degree in from reputed institutes like IIT / NIT / BITS\\nRoleData Analyst\\nIndustry TypeIT-Software, Software Services\\nFunctional AreaAnalytics & Business Intelligence\\nEmployment TypeFull Time, Permanent\\nRole CategoryAnalytics & BI\\nEducation\\nUG :B.Tech/B.E. in Any Specialization\\nPG :M.Tech in Any Specialization\\nDoctorate :Doctorate Not Required\\nKey Skills\\nHiveRCloud ComputingData ScientistComputer VisionMachine LearningDeep LearningSQLPig',\n",
       " 'Job description\\nJob description\\nJob Summary and Key Responsibilities\\nManage, architect, and analyze big data to build data driven business insights and high impact data models to generate significant business value. Create models and processes to collect, distill and interpret data with a view to aid better, more informed decision making. Examine and explore data from multiple disparate sources with the goal of discovering insights which in turn can provide competitive advantage for our stakeholders.\\nThe role involves but not limited to the following:\\nCreate insights from predictive statistical modeling, mathematical knowledge, tools, and techniques to solve complex problems and deliver value\\nCollaborate with Accenture teams to address business issues and influence change using strategy, industry, and analytical skills\\nDeliver large-scale programs that integrate processes with technology to help clients achieve high performance\\nMining and EDA of large datasets to assist in developing analytics solution\\nIndividual contributor and/or oversees a small work effort\\nWork with minimal supervision on daily tasks and moderate level of instruction on new assignments\\nKey Skills\\nMust Have\\nAnalytical skills\\nKnowledge of statistical techniques and machine learning algorithms\\nKnowledge of analysis tools like R, Python\\nAdvanced Excel, PowerPoint skills\\nAdvanced communication (written and oral) and strong interpersonal skills\\nAbility to work cross-culturally\\nGood to have\\nKnowledge on Google Cloud Platform\\nHuman Resources experience\\nAdditional Accenture HR systems experience\\nUnderstanding of Text analysis, VBA, Java, Python, .Net and visualization tools like Qliksense, Qlikview, Tableau will be an added advantage\\nInterested Candidates\\n\\n\\nPlease Contact: Geethanjali\\n9900044693\\nhr1@inspirationmanpower.co.in\\n\\nRoleData Analyst\\nIndustry TypeBPO, Call Centre, ITeS\\nFunctional AreaAnalytics & Business Intelligence\\nEmployment TypeFull Time, Permanent\\nRole CategoryAnalytics & BI\\nEducation\\nUG :Any Graduate in Any Specialization\\nKey Skills\\nData ScienceJavaREDAStatistical ModelingData AnalysisBig DataTableauMachine LearningPython',\n",
       " 'NA',\n",
       " 'NA',\n",
       " 'Job description\\n    What Youll Do\\n\\nWe re looking for a passionate and talented Senior Data Scientist to join our rapidly growing team.\\nIn this role, you ll have the chance to roll up your sleeves and apply data science methods and analytics to real-world business situations across a variety of industries.\\nAs the field of advanced analytics is rapidly evolving, the SDS is responsible for staying current on leading-edge business applications, tools and approaches, proactively working with the Analytics Leadership to enhance offerings that\\ndeliver competitive advantage to BCG.\\nSuccessful candidates are intellectually curious builders who are biased toward action, scrappy, and communicative.\\nYou will also get the chance to travel: we have clients across the globe Make sure your passport is ready to go!\\n \\n\\n\\nWHO YOU ARE. YOU:\\nHave deep technical and Data Science expertise: The successful candidate will have a wealth of experience with applying advanced analytics to a variety of business situations, such that they can efficiently and effectively advise multiple teams on the best path to uncovering critical insights for clients.\\nAre an autonomous self-starter with a passion for analytics and problem solving. You will help build new Analytics service offerings that grow our portfolio of products and will captures proprietary content, and support the creation of proposal/selling documents.\\nAre comfortable managing engagements, client relationships, and acting as a thought Leader. Strong presence, strong collaborator and leadership skills and ability to operate effectively in a matrix organization are a must.\\nLove building things and are comfortable working with modern development tools and writing code collaboratively (bonus points if you have a software development or DevOps experience)\\nHave significant experience applying advanced analytics to a variety of business situations and a proven ability to synthesize complex data; as well as a deep understanding of modern machine learning techniques and their mathematical underpinnings, and are able to translate this into business implications for our clients\\nHave strong project management skills\\nMaster s Degree with significant relevant experience providing advanced analytics solutions, or relevant PhD in computer science, applied mathematics, statistics, machine learning, or a related data centric field.\\nDemonstrated deep technical and data science expertise, acute strategic and analytical skills, ability to lead and persuade, drive and energy, and desire to work in a project based environment on strategic issues.\\nStrong record of professional accomplishment and leadership.\\nFluency in at least one scripting language (e.g. Python, R)\\nFluency in English and local office language are required\\nFast-paced, intellectually intense, service-oriented environment\\nPosition is located in either Chennai, Mumbai, Delhi-NCR or Bengaluru\\nExpect up to 60-80% of time spent traveling\\nRoleSoftware Developer\\nIndustry TypeStrategy, Management Consulting Firms\\nFunctional AreaIT Software - Application Programming, Maintenance\\nEmployment TypeFull Time, Permanent\\nRole CategoryProgramming & Design\\nEducation\\nUG :Any Graduate in Any Specialization\\nPG :Post Graduation Not Required\\nKey Skills\\nComputer scienceadvanced analyticsSDSdata scienceArtificial IntelligenceProject managementMachine learningManagement consultingBusiness strategyPython',\n",
       " 'Job description\\n\\nAbout Ganit Inc\\n\\nFounded by senior industry experts, Ganit is the fastest-growing data science company in Chennai with offices in Bengaluru, Mumbai & New Jersey.\\nGanit has flipped the data science value chain as we do not start with a technique but for us, consumption comes first. With this philosophy, we have successfully scaled from being a small start-up to a 200 resource company with clients in the US, Singapore, Africa, UAE, and India.\\nWe are looking for experienced data enthusiasts who can make the data talk to them.\\n\\nWhat you will be doing.\\n\\nUnderstand business problems and translate business requirements into technical requirements.\\n\\nConduct complex data analysis to ensure data quality & reliability i.e., make the data talk by extracting, preparing, and transforming it.\\n\\nIdentify, develop and implement statistical techniques and algorithms to address business challenges and add value to the organization.\\n\\nGather requirements and communicate findings in the form of a meaningful story with the Stakeholders.\\n\\nBuild & implement data models using predictive modeling techniques. Interact with clients and provide support for queries and delivery adoption.\\n\\nLead and mentor data analysts.\\n\\nWhat we are looking for:\\nApart from your love for data and ability to code even while sleeping you would need the following.\\n\\nMinimum of 04 years of experience in designing and delivery of data science solutions.\\n\\nYou should have successful projects in Manufacturing in your kitty to show-off. (Experience on manufacturing analytics is a MUST)\\n\\nDeep understanding of various statistical techniques, mathematical models, and algorithms to start the conversation with the data in hand.\\n\\nAbility to choose the right model for the data and translate that into a code using R, Python, VBA, SQL, etc.\\n\\nBachelors/Masters degree in Engineering/Technology or\\nMBA from Tier-1 B School or\\nMSc. in Statistics or Mathematics\\n\\nWhat is in it for you:\\n\\nBe a part of building the biggest brand in Data science.\\nAn opportunity to be a part of a young and energetic team with a strong pedigree.\\nWork on awesome projects across industries and learn from the best in the industry, while growing at a hyper rate.\\nRoleData Analyst\\nIndustry TypeAutomobile, Auto Anciliary, Auto Components\\nFunctional AreaAnalytics & Business Intelligence\\nEmployment TypeFull Time, Permanent\\nRole CategoryAnalytics & BI\\nEducation\\nUG :Any Graduate in Any Specialization\\nKey Skills\\nPredictive ModelingManufacturing AnalyticsPython\\nData ScienceRData QualityAlgorithmsVBAData AnalysisAnamoly detectionStatisticsSQL\\nSkills highlighted with ‘‘ are preferred keyskills',\n",
       " 'Job description\\nRoles and Responsibilities\\n\\nMust have strong Python Programming Skills\\nStrong analytical & algorithm development skills\\nLogical and Analytical skills must be really strong\\nMust have worked in DeepLearning Efforts - Especially computer vision.\\nMust have experinece with Object Detection - Custom model training for Object detection\\nShould have experience with atleast one or more of these - Tensorflow, Keras, PyTorch\\n\\nPrimary Skills - Python + tensorflow - Keras / PyTorch, OpenCV\\nPerks and Benefits\\n\\nKindly share your resume to kandavelkumar.lakshmanan @cesltd.com\\n\\nRoleTechnical Architect\\nIndustry TypeIT-Software, Software Services\\nFunctional AreaIT Software - Application Programming, Maintenance\\nEmployment TypeFull Time, Permanent\\nRole CategoryProgramming & Design\\nEducation\\nUG :Any Graduate in Any Specialization\\nKey Skills\\nTensorflowObject DetectionAlgorithm DevelopmentAnalytical SkillsProgrammingMachine LearningDeep LearningPytorchData ScienceROpencvKerasComputer VisionPython',\n",
       " 'NA']"
      ]
     },
     "execution_count": 102,
     "metadata": {},
     "output_type": "execute_result"
    }
   ],
   "source": [
    "job_description[0:10]"
   ]
  },
  {
   "cell_type": "code",
   "execution_count": 103,
   "metadata": {},
   "outputs": [],
   "source": [
    "import pandas as pd\n",
    "Data=pd.DataFrame({})\n",
    "Data['job_titles']=job_titles\n",
    "Data['job_location']=job_location\n",
    "Data['company_name']=company_name\n",
    "Data['job_description']=job_description"
   ]
  },
  {
   "cell_type": "code",
   "execution_count": 106,
   "metadata": {},
   "outputs": [
    {
     "data": {
      "text/html": [
       "<div>\n",
       "<style scoped>\n",
       "    .dataframe tbody tr th:only-of-type {\n",
       "        vertical-align: middle;\n",
       "    }\n",
       "\n",
       "    .dataframe tbody tr th {\n",
       "        vertical-align: top;\n",
       "    }\n",
       "\n",
       "    .dataframe thead th {\n",
       "        text-align: right;\n",
       "    }\n",
       "</style>\n",
       "<table border=\"1\" class=\"dataframe\">\n",
       "  <thead>\n",
       "    <tr style=\"text-align: right;\">\n",
       "      <th></th>\n",
       "      <th>job_titles</th>\n",
       "      <th>job_location</th>\n",
       "      <th>company_name</th>\n",
       "      <th>job_description</th>\n",
       "    </tr>\n",
       "  </thead>\n",
       "  <tbody>\n",
       "    <tr>\n",
       "      <th>0</th>\n",
       "      <td>Data Scientist</td>\n",
       "      <td>Bangalore/Bengaluru</td>\n",
       "      <td>CronJ IT Technologies Private Limited</td>\n",
       "      <td>Job description\\nResponsibilities and Duties\\n...</td>\n",
       "    </tr>\n",
       "    <tr>\n",
       "      <th>1</th>\n",
       "      <td>Opportunity For Data Scientist Internship - Be...</td>\n",
       "      <td>Bangalore/Bengaluru</td>\n",
       "      <td>Corner Stone Solutions</td>\n",
       "      <td>Job description\\nLocation - Bangalore / Bengal...</td>\n",
       "    </tr>\n",
       "    <tr>\n",
       "      <th>2</th>\n",
       "      <td>Data Scientist - Machine Learning</td>\n",
       "      <td>Bangalore/Bengaluru</td>\n",
       "      <td>AugmatrixGo</td>\n",
       "      <td>Job description\\nRoles and Responsibilities\\n\\...</td>\n",
       "    </tr>\n",
       "    <tr>\n",
       "      <th>3</th>\n",
       "      <td>Data Scientist || Data Analyst || Data science</td>\n",
       "      <td>Navi Mumbai, Bangalore/Bengaluru</td>\n",
       "      <td>Inspiration Manpower Consultancy Pvt. Ltd.</td>\n",
       "      <td>Job description\\nJob description\\nJob Summary ...</td>\n",
       "    </tr>\n",
       "    <tr>\n",
       "      <th>4</th>\n",
       "      <td>Data Scientist - IBM Garage</td>\n",
       "      <td>Noida, Hyderabad/Secunderabad, Bangalore/Benga...</td>\n",
       "      <td>IBM India Pvt. Limited</td>\n",
       "      <td>NA</td>\n",
       "    </tr>\n",
       "    <tr>\n",
       "      <th>5</th>\n",
       "      <td>GAMMA Lead Data Scientist</td>\n",
       "      <td>Mumbai, New Delhi, Chennai, Bangalore/Bengaluru</td>\n",
       "      <td>Boston Consulting Group</td>\n",
       "      <td>NA</td>\n",
       "    </tr>\n",
       "    <tr>\n",
       "      <th>6</th>\n",
       "      <td>DBCG IND - GAMMA Senior Data Scientist</td>\n",
       "      <td>Mumbai, New Delhi, Chennai, Bangalore/Bengaluru</td>\n",
       "      <td>Boston Consulting Group</td>\n",
       "      <td>Job description\\n    What Youll Do\\n\\nWe re lo...</td>\n",
       "    </tr>\n",
       "    <tr>\n",
       "      <th>7</th>\n",
       "      <td>Data Scientist/Senior Data Scientist</td>\n",
       "      <td>Hyderabad/Secunderabad, Pune, Chennai, Bangalo...</td>\n",
       "      <td>GANIT BUSINESS SOLUTIONS PRIVATE LIMITED</td>\n",
       "      <td>Job description\\n\\nAbout Ganit Inc\\n\\nFounded ...</td>\n",
       "    </tr>\n",
       "    <tr>\n",
       "      <th>8</th>\n",
       "      <td>Senior Data Scientist | CES IT LTD | CMMI Level 5</td>\n",
       "      <td>Kolkata, Mumbai, Hyderabad/Secunderabad, Pune,...</td>\n",
       "      <td>CES Ltd.</td>\n",
       "      <td>Job description\\nRoles and Responsibilities\\n\\...</td>\n",
       "    </tr>\n",
       "    <tr>\n",
       "      <th>9</th>\n",
       "      <td>Global Medical Data Scientist</td>\n",
       "      <td>Bangalore/Bengaluru</td>\n",
       "      <td>GlaxoSmithKline Pharmaceuticals Limited</td>\n",
       "      <td>NA</td>\n",
       "    </tr>\n",
       "  </tbody>\n",
       "</table>\n",
       "</div>"
      ],
      "text/plain": [
       "                                          job_titles  \\\n",
       "0                                     Data Scientist   \n",
       "1  Opportunity For Data Scientist Internship - Be...   \n",
       "2                  Data Scientist - Machine Learning   \n",
       "3     Data Scientist || Data Analyst || Data science   \n",
       "4                        Data Scientist - IBM Garage   \n",
       "5                          GAMMA Lead Data Scientist   \n",
       "6             DBCG IND - GAMMA Senior Data Scientist   \n",
       "7               Data Scientist/Senior Data Scientist   \n",
       "8  Senior Data Scientist | CES IT LTD | CMMI Level 5   \n",
       "9                      Global Medical Data Scientist   \n",
       "\n",
       "                                        job_location  \\\n",
       "0                                Bangalore/Bengaluru   \n",
       "1                                Bangalore/Bengaluru   \n",
       "2                                Bangalore/Bengaluru   \n",
       "3                   Navi Mumbai, Bangalore/Bengaluru   \n",
       "4  Noida, Hyderabad/Secunderabad, Bangalore/Benga...   \n",
       "5    Mumbai, New Delhi, Chennai, Bangalore/Bengaluru   \n",
       "6    Mumbai, New Delhi, Chennai, Bangalore/Bengaluru   \n",
       "7  Hyderabad/Secunderabad, Pune, Chennai, Bangalo...   \n",
       "8  Kolkata, Mumbai, Hyderabad/Secunderabad, Pune,...   \n",
       "9                                Bangalore/Bengaluru   \n",
       "\n",
       "                                 company_name  \\\n",
       "0       CronJ IT Technologies Private Limited   \n",
       "1                      Corner Stone Solutions   \n",
       "2                                 AugmatrixGo   \n",
       "3  Inspiration Manpower Consultancy Pvt. Ltd.   \n",
       "4                      IBM India Pvt. Limited   \n",
       "5                     Boston Consulting Group   \n",
       "6                     Boston Consulting Group   \n",
       "7    GANIT BUSINESS SOLUTIONS PRIVATE LIMITED   \n",
       "8                                    CES Ltd.   \n",
       "9     GlaxoSmithKline Pharmaceuticals Limited   \n",
       "\n",
       "                                     job_description  \n",
       "0  Job description\\nResponsibilities and Duties\\n...  \n",
       "1  Job description\\nLocation - Bangalore / Bengal...  \n",
       "2  Job description\\nRoles and Responsibilities\\n\\...  \n",
       "3  Job description\\nJob description\\nJob Summary ...  \n",
       "4                                                 NA  \n",
       "5                                                 NA  \n",
       "6  Job description\\n    What Youll Do\\n\\nWe re lo...  \n",
       "7  Job description\\n\\nAbout Ganit Inc\\n\\nFounded ...  \n",
       "8  Job description\\nRoles and Responsibilities\\n\\...  \n",
       "9                                                 NA  "
      ]
     },
     "execution_count": 106,
     "metadata": {},
     "output_type": "execute_result"
    }
   ],
   "source": [
    "Data\n"
   ]
  },
  {
   "cell_type": "code",
   "execution_count": 104,
   "metadata": {},
   "outputs": [
    {
     "name": "stdout",
     "output_type": "stream",
     "text": [
      "10 10 10 10\n"
     ]
    }
   ],
   "source": [
    "print(len(job_titles),len(job_location),len(company_name),len(job_description))\n"
   ]
  },
  {
   "cell_type": "markdown",
   "metadata": {},
   "source": [
    "PART 3"
   ]
  },
  {
   "cell_type": "markdown",
   "metadata": {},
   "source": [
    "Scrape data using filters"
   ]
  },
  {
   "cell_type": "code",
   "execution_count": 110,
   "metadata": {},
   "outputs": [],
   "source": [
    "driver= webdriver.Chrome(r\"C:\\Users\\Admin\\Downloads\\chromedriver.exe\")"
   ]
  },
  {
   "cell_type": "code",
   "execution_count": 111,
   "metadata": {},
   "outputs": [],
   "source": [
    "url='https://www.naukri.com/data-scientist-jobs'"
   ]
  },
  {
   "cell_type": "code",
   "execution_count": 112,
   "metadata": {},
   "outputs": [],
   "source": [
    "driver.get(url)"
   ]
  },
  {
   "cell_type": "code",
   "execution_count": 113,
   "metadata": {},
   "outputs": [],
   "source": [
    "location=driver.find_element_by_xpath(\"//div[2][@class='mt-8 chckBoxCont']\")\n",
    "try:\n",
    "    location.click()\n",
    "except ElementNotInteractableException:\n",
    "    location.get(location.get_attribute('href'))"
   ]
  },
  {
   "cell_type": "code",
   "execution_count": 114,
   "metadata": {},
   "outputs": [
    {
     "data": {
      "text/plain": [
       "<selenium.webdriver.remote.webelement.WebElement (session=\"9f2ef2c24b2eba9177736faba3ae6ece\", element=\"378ad286-16f6-4e48-9792-1a9f9ac2029c\")>"
      ]
     },
     "execution_count": 114,
     "metadata": {},
     "output_type": "execute_result"
    }
   ],
   "source": [
    "location"
   ]
  },
  {
   "cell_type": "code",
   "execution_count": 115,
   "metadata": {},
   "outputs": [],
   "source": [
    "salary=driver.find_element_by_xpath(\"//div[@data-filter-id='salaryRange']/div[2]\")\n",
    "try:\n",
    "    salary.click()\n",
    "except ElementNotInteractableException:\n",
    "    salary.get(salary.get_attribute('href'))"
   ]
  },
  {
   "cell_type": "code",
   "execution_count": 116,
   "metadata": {},
   "outputs": [],
   "source": [
    "job_titles=[]\n",
    "job_location=[]\n",
    "company_name=[]\n",
    "experience_required=[]"
   ]
  },
  {
   "cell_type": "code",
   "execution_count": 117,
   "metadata": {},
   "outputs": [],
   "source": [
    "title_tags=driver.find_elements_by_xpath(\"//a[@class='title fw500 ellipsis']\")\n",
    "for j in title_tags[:10]:\n",
    "    job_titles.append(j.text)\n",
    "#extracting location \n",
    "location_tags=driver.find_elements_by_xpath(\"//li[@class='fleft grey-text br2 placeHolderLi location']\")\n",
    "for j in location_tags[:10]:\n",
    "    job_location.append(j.text)\n",
    "#extracting company name\n",
    "company_tags=driver.find_elements_by_xpath(\"//a[@class='subTitle ellipsis fleft']\")\n",
    "for j in company_tags[:10]:\n",
    "    company_name.append(j.text)\n",
    "#extracting Experience required data\n",
    "experience_tags=driver.find_elements_by_xpath(\"//li[@class='fleft grey-text br2 placeHolderLi experience']\")\n",
    "for j in experience_tags[:10]:\n",
    "    experience_required.append(j.text)"
   ]
  },
  {
   "cell_type": "code",
   "execution_count": 118,
   "metadata": {},
   "outputs": [
    {
     "name": "stdout",
     "output_type": "stream",
     "text": [
      "10 10 10 10\n"
     ]
    }
   ],
   "source": [
    "print(len(job_titles),len(job_location),len(company_name),len(experience_required))"
   ]
  },
  {
   "cell_type": "code",
   "execution_count": 119,
   "metadata": {},
   "outputs": [],
   "source": [
    "import pandas as pd\n",
    "Data_scientist=pd.DataFrame({})\n",
    "Data_scientist['job_titles']=job_titles\n",
    "Data_scientist['job_location']=job_location\n",
    "Data_scientist['company_name']=company_name\n",
    "Data_scientist['experience_required']=experience_required"
   ]
  },
  {
   "cell_type": "code",
   "execution_count": 120,
   "metadata": {},
   "outputs": [
    {
     "data": {
      "text/html": [
       "<div>\n",
       "<style scoped>\n",
       "    .dataframe tbody tr th:only-of-type {\n",
       "        vertical-align: middle;\n",
       "    }\n",
       "\n",
       "    .dataframe tbody tr th {\n",
       "        vertical-align: top;\n",
       "    }\n",
       "\n",
       "    .dataframe thead th {\n",
       "        text-align: right;\n",
       "    }\n",
       "</style>\n",
       "<table border=\"1\" class=\"dataframe\">\n",
       "  <thead>\n",
       "    <tr style=\"text-align: right;\">\n",
       "      <th></th>\n",
       "      <th>job_titles</th>\n",
       "      <th>job_location</th>\n",
       "      <th>company_name</th>\n",
       "      <th>experience_required</th>\n",
       "    </tr>\n",
       "  </thead>\n",
       "  <tbody>\n",
       "    <tr>\n",
       "      <th>0</th>\n",
       "      <td>Data Scientist - IBM Garage</td>\n",
       "      <td>Noida, Hyderabad/Secunderabad, Bangalore/Benga...</td>\n",
       "      <td>IBM India Pvt. Limited</td>\n",
       "      <td>5-8 Yrs</td>\n",
       "    </tr>\n",
       "    <tr>\n",
       "      <th>1</th>\n",
       "      <td>GAMMA Lead Data Scientist</td>\n",
       "      <td>Mumbai, New Delhi, Chennai, Bangalore/Bengaluru</td>\n",
       "      <td>Boston Consulting Group</td>\n",
       "      <td>7-12 Yrs</td>\n",
       "    </tr>\n",
       "    <tr>\n",
       "      <th>2</th>\n",
       "      <td>DBCG IND - GAMMA Senior Data Scientist</td>\n",
       "      <td>Mumbai, New Delhi, Chennai, Bangalore/Bengaluru</td>\n",
       "      <td>Boston Consulting Group</td>\n",
       "      <td>6-10 Yrs</td>\n",
       "    </tr>\n",
       "    <tr>\n",
       "      <th>3</th>\n",
       "      <td>Senior Data Scientist | CES IT LTD | CMMI Level 5</td>\n",
       "      <td>Kolkata, Mumbai, Hyderabad/Secunderabad, Pune,...</td>\n",
       "      <td>CES Ltd.</td>\n",
       "      <td>2-7 Yrs</td>\n",
       "    </tr>\n",
       "    <tr>\n",
       "      <th>4</th>\n",
       "      <td>Data Scientist/Data Analyst - Python/Machine L...</td>\n",
       "      <td>Mumbai, Ghaziabad</td>\n",
       "      <td>Change leaders</td>\n",
       "      <td>5-10 Yrs</td>\n",
       "    </tr>\n",
       "    <tr>\n",
       "      <th>5</th>\n",
       "      <td>Data Scientist / Data Analyst – Mobile Gaming ...</td>\n",
       "      <td>Gurgaon/Gurugram</td>\n",
       "      <td>WITZEAL TECHNOLOGIES PRIVATE LIMITED</td>\n",
       "      <td>4-7 Yrs</td>\n",
       "    </tr>\n",
       "    <tr>\n",
       "      <th>6</th>\n",
       "      <td>Senior Data Scientist - Machine Learning/Hadoop</td>\n",
       "      <td>Gurgaon/Gurugram</td>\n",
       "      <td>Decision Point</td>\n",
       "      <td>2-7 Yrs</td>\n",
       "    </tr>\n",
       "    <tr>\n",
       "      <th>7</th>\n",
       "      <td>Founding Member &amp; Principal Data Scientist - M...</td>\n",
       "      <td>Gurgaon/Gurugram</td>\n",
       "      <td>Benovymed Healthcare</td>\n",
       "      <td>3-7 Yrs</td>\n",
       "    </tr>\n",
       "    <tr>\n",
       "      <th>8</th>\n",
       "      <td>Data Scientist</td>\n",
       "      <td>Mumbai, Gurgaon/Gurugram</td>\n",
       "      <td>TransOrg Analytics</td>\n",
       "      <td>3-6 Yrs</td>\n",
       "    </tr>\n",
       "    <tr>\n",
       "      <th>9</th>\n",
       "      <td>Females Required- Data Scientist- Noida</td>\n",
       "      <td>Noida, Gurgaon/Gurugram, Delhi / NCR</td>\n",
       "      <td>Randstad</td>\n",
       "      <td>3-7 Yrs</td>\n",
       "    </tr>\n",
       "  </tbody>\n",
       "</table>\n",
       "</div>"
      ],
      "text/plain": [
       "                                          job_titles  \\\n",
       "0                        Data Scientist - IBM Garage   \n",
       "1                          GAMMA Lead Data Scientist   \n",
       "2             DBCG IND - GAMMA Senior Data Scientist   \n",
       "3  Senior Data Scientist | CES IT LTD | CMMI Level 5   \n",
       "4  Data Scientist/Data Analyst - Python/Machine L...   \n",
       "5  Data Scientist / Data Analyst – Mobile Gaming ...   \n",
       "6    Senior Data Scientist - Machine Learning/Hadoop   \n",
       "7  Founding Member & Principal Data Scientist - M...   \n",
       "8                                     Data Scientist   \n",
       "9            Females Required- Data Scientist- Noida   \n",
       "\n",
       "                                        job_location  \\\n",
       "0  Noida, Hyderabad/Secunderabad, Bangalore/Benga...   \n",
       "1    Mumbai, New Delhi, Chennai, Bangalore/Bengaluru   \n",
       "2    Mumbai, New Delhi, Chennai, Bangalore/Bengaluru   \n",
       "3  Kolkata, Mumbai, Hyderabad/Secunderabad, Pune,...   \n",
       "4                                  Mumbai, Ghaziabad   \n",
       "5                                   Gurgaon/Gurugram   \n",
       "6                                   Gurgaon/Gurugram   \n",
       "7                                   Gurgaon/Gurugram   \n",
       "8                           Mumbai, Gurgaon/Gurugram   \n",
       "9               Noida, Gurgaon/Gurugram, Delhi / NCR   \n",
       "\n",
       "                           company_name experience_required  \n",
       "0                IBM India Pvt. Limited             5-8 Yrs  \n",
       "1               Boston Consulting Group            7-12 Yrs  \n",
       "2               Boston Consulting Group            6-10 Yrs  \n",
       "3                              CES Ltd.             2-7 Yrs  \n",
       "4                        Change leaders            5-10 Yrs  \n",
       "5  WITZEAL TECHNOLOGIES PRIVATE LIMITED             4-7 Yrs  \n",
       "6                        Decision Point             2-7 Yrs  \n",
       "7                  Benovymed Healthcare             3-7 Yrs  \n",
       "8                    TransOrg Analytics             3-6 Yrs  \n",
       "9                              Randstad             3-7 Yrs  "
      ]
     },
     "execution_count": 120,
     "metadata": {},
     "output_type": "execute_result"
    }
   ],
   "source": [
    "Data_scientist"
   ]
  },
  {
   "cell_type": "code",
   "execution_count": null,
   "metadata": {},
   "outputs": [],
   "source": []
  },
  {
   "cell_type": "markdown",
   "metadata": {},
   "source": [
    "part 4"
   ]
  },
  {
   "cell_type": "markdown",
   "metadata": {},
   "source": [
    "scape data from glassdoor on \n",
    "company_name\n",
    "No. of days ago when job was posted\n",
    "Rating of the company."
   ]
  },
  {
   "cell_type": "code",
   "execution_count": 186,
   "metadata": {},
   "outputs": [],
   "source": [
    "import pandas as pd"
   ]
  },
  {
   "cell_type": "code",
   "execution_count": 187,
   "metadata": {},
   "outputs": [
    {
     "name": "stdout",
     "output_type": "stream",
     "text": [
      "                   company_name days_posted ratings\n",
      "0                Biz2Credit Inc        30d+     3.8\n",
      "1     Unyscape Infocom Pvt. Ltd        30d+     4.1\n",
      "2                      Techlive        30d+     5.0\n",
      "3                         Adobe          6d     4.4\n",
      "4                       Genpact          1d     3.8\n",
      "5  Salasar New Age Technologies        30d+     5.0\n",
      "6  Salasar New Age Technologies        30d+     3.5\n",
      "7                       Asquero          7d     4.4\n",
      "8                       CRMNEXT         12d     3.9\n",
      "9                     Microsoft        30d+     3.9\n"
     ]
    }
   ],
   "source": [
    "def glassdoor(url):\n",
    "    driver=webdriver.Chrome(r\"C:\\Users\\Admin\\Downloads\\chromedriver.exe\")\n",
    "    driver.get(url)\n",
    "    #fetching company name\n",
    "    company_name=[]\n",
    "    tags=driver.find_elements_by_xpath(\"//a[@class=' css-l2wjgv e1n63ojh0 jobLink']\")\n",
    "    for j in tags[0:10]:\n",
    "        company_name.append(j.text)\n",
    "        \n",
    "    days_posted=[]\n",
    "    days=driver.find_elements_by_xpath(\"//div[@class='d-flex align-items-end pl-std css-mi55ob']\")\n",
    "    for d in days[0:10]:\n",
    "        days_posted.append(d.text)\n",
    "        \n",
    "    ratings=[]\n",
    "    rate=driver.find_elements_by_xpath(\"//span[@class='css-19pjha7 e1cjmv6j1']\")\n",
    "    for r in rate[0:10]:\n",
    "        ratings.append(r.text)\n",
    "        \n",
    "       \n",
    "    job_df=pd.DataFrame({'company_name':company_name,\n",
    "                         'days_posted':days_posted,\n",
    "                         'ratings':ratings,})\n",
    "    \n",
    "    job_df.to_csv('Data_Scientist_Glassdors.csv')\n",
    "    print(job_df)\n",
    "# Calling Function\n",
    "glassdoor('https://www.glassdoor.co.in/Job/noida-data-scientist-jobs-SRCH_IL.0,5_IC4477468_KO6,20.htm')"
   ]
  },
  {
   "cell_type": "markdown",
   "metadata": {},
   "source": [
    "PART 5 "
   ]
  },
  {
   "cell_type": "markdown",
   "metadata": {},
   "source": [
    "SCRAPE DATA ON\n",
    "min_salary=[]\n",
    "max_salary=[]\n",
    "company_name=[]\n",
    "Average_salary=[]\n",
    "rating=[]"
   ]
  },
  {
   "cell_type": "code",
   "execution_count": 174,
   "metadata": {},
   "outputs": [],
   "source": [
    "driver=webdriver.Chrome(r\"C:\\Users\\Admin\\Downloads\\chromedriver.exe\")"
   ]
  },
  {
   "cell_type": "code",
   "execution_count": 175,
   "metadata": {},
   "outputs": [],
   "source": [
    "url='https://www.glassdoor.co.in/Salaries/new-delhi-data-scientist-salary-SRCH_IL.0,9_IM1083_KO10,24.htm?clickSource=searchBtn'"
   ]
  },
  {
   "cell_type": "code",
   "execution_count": 176,
   "metadata": {},
   "outputs": [],
   "source": [
    "driver.get(url)"
   ]
  },
  {
   "cell_type": "code",
   "execution_count": 204,
   "metadata": {},
   "outputs": [],
   "source": [
    "num_salaries=[]\n",
    "minimum_salary=[]\n",
    "company_name=[]\n",
    "Average_salary=[]\n",
    "rating=[]"
   ]
  },
  {
   "cell_type": "code",
   "execution_count": 205,
   "metadata": {},
   "outputs": [],
   "source": [
    "company_name=[]\n",
    "tags=driver.find_elements_by_xpath(\"//p[@class='m-0']\")\n",
    "\n",
    "for j in tags[0:10]:\n",
    "    company_name.append(j.text)"
   ]
  },
  {
   "cell_type": "code",
   "execution_count": 206,
   "metadata": {},
   "outputs": [
    {
     "data": {
      "text/plain": [
       "['Data Scientist',\n",
       " 'See 110 salaries from all locations',\n",
       " 'Data Scientist',\n",
       " 'See 53 salaries from all locations',\n",
       " 'Data Scientist',\n",
       " 'See 18 salaries from all locations',\n",
       " 'Data Scientist',\n",
       " 'See 100 salaries from all locations',\n",
       " 'Data Scientist',\n",
       " 'See 26 salaries from all locations']"
      ]
     },
     "execution_count": 206,
     "metadata": {},
     "output_type": "execute_result"
    }
   ],
   "source": [
    "company_name"
   ]
  },
  {
   "cell_type": "code",
   "execution_count": 207,
   "metadata": {},
   "outputs": [],
   "source": [
    "num_salaries=[]\n",
    "tags=driver.find_elements_by_xpath(\"//p[@class='css-1uyte9r css-1kuy7z7 m-0 ']\")\n",
    "for j in tags[:10]:\n",
    "    num_salaries.append(j.text)"
   ]
  },
  {
   "cell_type": "code",
   "execution_count": 208,
   "metadata": {},
   "outputs": [
    {
     "data": {
      "text/plain": [
       "['14 salaries',\n",
       " '14 salaries',\n",
       " '14 salaries',\n",
       " '13 salaries',\n",
       " '12 salaries',\n",
       " '10 salaries',\n",
       " '9 salaries',\n",
       " '8 salaries',\n",
       " '7 salaries',\n",
       " '7 salaries']"
      ]
     },
     "execution_count": 208,
     "metadata": {},
     "output_type": "execute_result"
    }
   ],
   "source": [
    "num_salaries"
   ]
  },
  {
   "cell_type": "code",
   "execution_count": 209,
   "metadata": {},
   "outputs": [],
   "source": [
    "Average_salary=[]\n",
    "tags=driver.find_elements_by_xpath(\"//div[@class='col-2 d-none d-md-flex flex-row justify-content-end']/strong\")\n",
    "for j in tags[:10]:\n",
    "    Average_salary.append(j.text)"
   ]
  },
  {
   "cell_type": "code",
   "execution_count": 210,
   "metadata": {},
   "outputs": [
    {
     "data": {
      "text/plain": [
       "['₹ 5,97,967',\n",
       " '₹ 11,12,243',\n",
       " '₹ 12,12,741',\n",
       " '₹ 7,37,972',\n",
       " '₹ 7,15,984',\n",
       " '₹ 13,41,900',\n",
       " '₹ 7,90,812',\n",
       " '₹ 11,81,047',\n",
       " '₹ 9,89,924',\n",
       " '₹ 11,73,127']"
      ]
     },
     "execution_count": 210,
     "metadata": {},
     "output_type": "execute_result"
    }
   ],
   "source": [
    "Average_salary"
   ]
  },
  {
   "cell_type": "code",
   "execution_count": 215,
   "metadata": {},
   "outputs": [],
   "source": [
    "minimum_salary=[]\n",
    "tags=driver.find_elements_by_xpath(\"//p[@class='d-block d-md-none m-0 css-1kuy7z7']\")\n",
    "for j in tags[:10]:\n",
    "    minimum_salary.append(j.text)"
   ]
  },
  {
   "cell_type": "code",
   "execution_count": 216,
   "metadata": {},
   "outputs": [
    {
     "data": {
      "text/plain": [
       "['Range: ₹333K - ₹1,080K',\n",
       " 'Range: ₹560K - ₹2,147K',\n",
       " 'Range: ₹436K - ₹11,274K',\n",
       " 'Range: ₹569K - ₹2,648K',\n",
       " 'Range: ₹350K - ₹1,565K',\n",
       " 'Range: ₹1,037K - ₹1,500K',\n",
       " 'Range: ₹487K - ₹1,421K',\n",
       " 'Range: ₹602K - ₹1,644K',\n",
       " 'Range: ₹196K - ₹1,755K',\n",
       " 'Range: ₹558K - ₹1,500K']"
      ]
     },
     "execution_count": 216,
     "metadata": {},
     "output_type": "execute_result"
    }
   ],
   "source": [
    "minimum_salary\n"
   ]
  },
  {
   "cell_type": "code",
   "execution_count": 218,
   "metadata": {},
   "outputs": [],
   "source": [
    " salary_df=pd.DataFrame({'company_name':company_name,\n",
    "                         'num_salaries':num_salaries,\n",
    "                         'Average_salary':Average_salary,\n",
    "                          'minimum_salary':minimum_salary})"
   ]
  },
  {
   "cell_type": "code",
   "execution_count": 219,
   "metadata": {},
   "outputs": [
    {
     "name": "stdout",
     "output_type": "stream",
     "text": [
      "                          company_name num_salaries Average_salary  \\\n",
      "0                       Data Scientist  14 salaries     ₹ 5,97,967   \n",
      "1  See 110 salaries from all locations  14 salaries    ₹ 11,12,243   \n",
      "2                       Data Scientist  14 salaries    ₹ 12,12,741   \n",
      "3   See 53 salaries from all locations  13 salaries     ₹ 7,37,972   \n",
      "4                       Data Scientist  12 salaries     ₹ 7,15,984   \n",
      "5   See 18 salaries from all locations  10 salaries    ₹ 13,41,900   \n",
      "6                       Data Scientist   9 salaries     ₹ 7,90,812   \n",
      "7  See 100 salaries from all locations   8 salaries    ₹ 11,81,047   \n",
      "8                       Data Scientist   7 salaries     ₹ 9,89,924   \n",
      "9   See 26 salaries from all locations   7 salaries    ₹ 11,73,127   \n",
      "\n",
      "             minimum_salary  \n",
      "0    Range: ₹333K - ₹1,080K  \n",
      "1    Range: ₹560K - ₹2,147K  \n",
      "2   Range: ₹436K - ₹11,274K  \n",
      "3    Range: ₹569K - ₹2,648K  \n",
      "4    Range: ₹350K - ₹1,565K  \n",
      "5  Range: ₹1,037K - ₹1,500K  \n",
      "6    Range: ₹487K - ₹1,421K  \n",
      "7    Range: ₹602K - ₹1,644K  \n",
      "8    Range: ₹196K - ₹1,755K  \n",
      "9    Range: ₹558K - ₹1,500K  \n"
     ]
    }
   ],
   "source": [
    "salary_df.to_csv('Data_Scientist_Glassdors_salary.csv')\n",
    "print(salary_df)"
   ]
  },
  {
   "cell_type": "markdown",
   "metadata": {},
   "source": [
    "PART 6"
   ]
  },
  {
   "cell_type": "markdown",
   "metadata": {},
   "source": [
    "Scrape data of first 100 sunglasses listings on flipkart\n",
    "Brand\n",
    "Product Description\n",
    "Price\n",
    "Discount %"
   ]
  },
  {
   "cell_type": "code",
   "execution_count": 431,
   "metadata": {},
   "outputs": [],
   "source": []
  },
  {
   "cell_type": "code",
   "execution_count": 606,
   "metadata": {},
   "outputs": [],
   "source": [
    "driver=webdriver.Chrome(r\"C:\\Users\\Admin\\Downloads\\chromedriver.exe\")"
   ]
  },
  {
   "cell_type": "code",
   "execution_count": 607,
   "metadata": {},
   "outputs": [],
   "source": [
    "url='https://www.flipkart.com/'"
   ]
  },
  {
   "cell_type": "code",
   "execution_count": 608,
   "metadata": {},
   "outputs": [],
   "source": [
    "driver.get(url)"
   ]
  },
  {
   "cell_type": "code",
   "execution_count": 609,
   "metadata": {},
   "outputs": [],
   "source": [
    "Brand=[]\n",
    "Product_Description=[]\n",
    "Price=[]\n",
    "Discount=[]"
   ]
  },
  {
   "cell_type": "code",
   "execution_count": null,
   "metadata": {},
   "outputs": [],
   "source": [
    "\n",
    "time.sleep(3)\n",
    "\n",
    "\n",
    "prod_ser = driver.find_element_by_xpath(\"//div[@class='_3OO5Xc']//input[@type = 'text']\")\n",
    "prod_ser.send_keys(\"sunglasses\")\n",
    "\n",
    "sub_button = driver.find_element_by_xpath(\"//div[@class = 'col-12-12 _2oO9oE']//button[@class = 'L0Z3Pu']\")\n",
    "sub_button.click()"
   ]
  },
  {
   "cell_type": "code",
   "execution_count": null,
   "metadata": {},
   "outputs": [],
   "source": [
    "URL=[]\n",
    "for i in range(0,3):\n",
    "    sunglasses=driver.find_elements_by_xpath(\"//a[@class='_2UzuFa']\")[0:100]\n",
    "    for i in sunglasses:\n",
    "        URL.append(i.get_attribute('href'))\n",
    "    driver.find_element_by_xpath('//*[@id=\"container\"]/div/div[3]/div[1]/div[2]/div[12]/div/div/nav/a[11]').click()\n",
    "    time.sleep(3)"
   ]
  },
  {
   "cell_type": "code",
   "execution_count": null,
   "metadata": {},
   "outputs": [],
   "source": [
    "required_url=URL[0:100]"
   ]
  },
  {
   "cell_type": "code",
   "execution_count": 439,
   "metadata": {
    "scrolled": true
   },
   "outputs": [
    {
     "name": "stderr",
     "output_type": "stream",
     "text": [
      "100%|██████████| 100/100 [02:43<00:00,  1.64s/it]\n"
     ]
    }
   ],
   "source": [
    "from tqdm import tqdm\n",
    "for i in tqdm(required_url):\n",
    "    driver.get(i)\n",
    "\n",
    "    try:\n",
    "        brand=driver.find_element_by_xpath(\"//span[@class='G6XhRU']\").text\n",
    "        Brand.append(brand)\n",
    "        description=driver.find_element_by_xpath(\"//span[@class='B_NuCI']\").text\n",
    "        Product_Description.append(description)\n",
    "        price=driver.find_element_by_xpath(\"//div[@class='_30jeq3 _16Jk6d']\").text\n",
    "        Price.append(price)\n",
    "        discount=driver.find_element_by_xpath(\"//div[@class='_3Ay6Sb _31Dcoz pZkvcx']/span\").text\n",
    "        Discount.append(discount)\n",
    "    except NoSuchElementException:\n",
    "        Brand.append(\"Null\")\n",
    "        Product_Description.append(\"Null\")\n",
    "        Price.append(\"Null\")\n",
    "        Discount.append('Null')\n",
    "\n"
   ]
  },
  {
   "cell_type": "code",
   "execution_count": 440,
   "metadata": {},
   "outputs": [
    {
     "name": "stdout",
     "output_type": "stream",
     "text": [
      "100 100 100 100\n"
     ]
    }
   ],
   "source": [
    "print(len(Brand),len(Product_Description),len(Price),len(Discount))"
   ]
  },
  {
   "cell_type": "code",
   "execution_count": 442,
   "metadata": {},
   "outputs": [
    {
     "data": {
      "text/html": [
       "<div>\n",
       "<style scoped>\n",
       "    .dataframe tbody tr th:only-of-type {\n",
       "        vertical-align: middle;\n",
       "    }\n",
       "\n",
       "    .dataframe tbody tr th {\n",
       "        vertical-align: top;\n",
       "    }\n",
       "\n",
       "    .dataframe thead th {\n",
       "        text-align: right;\n",
       "    }\n",
       "</style>\n",
       "<table border=\"1\" class=\"dataframe\">\n",
       "  <thead>\n",
       "    <tr style=\"text-align: right;\">\n",
       "      <th></th>\n",
       "      <th>Brand</th>\n",
       "      <th>Product_Description</th>\n",
       "      <th>Price</th>\n",
       "      <th>Discount</th>\n",
       "    </tr>\n",
       "  </thead>\n",
       "  <tbody>\n",
       "    <tr>\n",
       "      <th>0</th>\n",
       "      <td>Aislin</td>\n",
       "      <td>UV Protection, Gradient Cat-eye Sunglasses (58...</td>\n",
       "      <td>₹459</td>\n",
       "      <td>69% off</td>\n",
       "    </tr>\n",
       "    <tr>\n",
       "      <th>1</th>\n",
       "      <td>ROYAL SON</td>\n",
       "      <td>Polarized, UV Protection Round Sunglasses (52)...</td>\n",
       "      <td>₹679</td>\n",
       "      <td>66% off</td>\n",
       "    </tr>\n",
       "    <tr>\n",
       "      <th>2</th>\n",
       "      <td>Fastrack</td>\n",
       "      <td>UV Protection Wayfarer Sunglasses (Free Size) ...</td>\n",
       "      <td>₹683</td>\n",
       "      <td>24% off</td>\n",
       "    </tr>\n",
       "    <tr>\n",
       "      <th>3</th>\n",
       "      <td>PIRASO</td>\n",
       "      <td>UV Protection Aviator Sunglasses (54)  (Black)</td>\n",
       "      <td>₹187</td>\n",
       "      <td>88% off</td>\n",
       "    </tr>\n",
       "    <tr>\n",
       "      <th>4</th>\n",
       "      <td>Fastrack</td>\n",
       "      <td>UV Protection Rectangular Sunglasses (Free Siz...</td>\n",
       "      <td>₹570</td>\n",
       "      <td>28% off</td>\n",
       "    </tr>\n",
       "    <tr>\n",
       "      <th>...</th>\n",
       "      <td>...</td>\n",
       "      <td>...</td>\n",
       "      <td>...</td>\n",
       "      <td>...</td>\n",
       "    </tr>\n",
       "    <tr>\n",
       "      <th>95</th>\n",
       "      <td>Ray-Ban</td>\n",
       "      <td>Wayfarer Sunglasses (55)  (Brown)</td>\n",
       "      <td>₹6,959</td>\n",
       "      <td>15% off</td>\n",
       "    </tr>\n",
       "    <tr>\n",
       "      <th>96</th>\n",
       "      <td>funglasses</td>\n",
       "      <td>Riding Glasses, Night Vision Round, Round Sung...</td>\n",
       "      <td>₹170</td>\n",
       "      <td>82% off</td>\n",
       "    </tr>\n",
       "    <tr>\n",
       "      <th>97</th>\n",
       "      <td>Ray-Ban</td>\n",
       "      <td>UV Protection Round Sunglasses (54)</td>\n",
       "      <td>₹6,961</td>\n",
       "      <td>15% off</td>\n",
       "    </tr>\n",
       "    <tr>\n",
       "      <th>98</th>\n",
       "      <td>I Flash</td>\n",
       "      <td>Gradient, UV Protection Round Sunglasses (Free...</td>\n",
       "      <td>₹123</td>\n",
       "      <td>87% off</td>\n",
       "    </tr>\n",
       "    <tr>\n",
       "      <th>99</th>\n",
       "      <td>NuVew</td>\n",
       "      <td>UV Protection, Mirrored, Night Vision, Riding ...</td>\n",
       "      <td>₹338</td>\n",
       "      <td>67% off</td>\n",
       "    </tr>\n",
       "  </tbody>\n",
       "</table>\n",
       "<p>100 rows × 4 columns</p>\n",
       "</div>"
      ],
      "text/plain": [
       "          Brand                                Product_Description   Price  \\\n",
       "0       Aislin   UV Protection, Gradient Cat-eye Sunglasses (58...    ₹459   \n",
       "1    ROYAL SON   Polarized, UV Protection Round Sunglasses (52)...    ₹679   \n",
       "2     Fastrack   UV Protection Wayfarer Sunglasses (Free Size) ...    ₹683   \n",
       "3       PIRASO      UV Protection Aviator Sunglasses (54)  (Black)    ₹187   \n",
       "4     Fastrack   UV Protection Rectangular Sunglasses (Free Siz...    ₹570   \n",
       "..          ...                                                ...     ...   \n",
       "95     Ray-Ban                   Wayfarer Sunglasses (55)  (Brown)  ₹6,959   \n",
       "96  funglasses   Riding Glasses, Night Vision Round, Round Sung...    ₹170   \n",
       "97     Ray-Ban                 UV Protection Round Sunglasses (54)  ₹6,961   \n",
       "98     I Flash   Gradient, UV Protection Round Sunglasses (Free...    ₹123   \n",
       "99       NuVew   UV Protection, Mirrored, Night Vision, Riding ...    ₹338   \n",
       "\n",
       "   Discount  \n",
       "0   69% off  \n",
       "1   66% off  \n",
       "2   24% off  \n",
       "3   88% off  \n",
       "4   28% off  \n",
       "..      ...  \n",
       "95  15% off  \n",
       "96  82% off  \n",
       "97  15% off  \n",
       "98  87% off  \n",
       "99  67% off  \n",
       "\n",
       "[100 rows x 4 columns]"
      ]
     },
     "execution_count": 442,
     "metadata": {},
     "output_type": "execute_result"
    }
   ],
   "source": [
    "Flipkart_Sunglasses = pd.DataFrame({\"Brand\": Brand, \n",
    "                                  \"Product_Description\": Product_Description, \n",
    "                                  \"Price\": Price , \n",
    "                                  \"Discount\": Discount})\n",
    "Flipkart_Sunglasses\n"
   ]
  },
  {
   "cell_type": "markdown",
   "metadata": {},
   "source": [
    "PART 7"
   ]
  },
  {
   "cell_type": "markdown",
   "metadata": {},
   "source": [
    "Scrape 100 reviews data from flipkart.com for iphone11 phone"
   ]
  },
  {
   "cell_type": "code",
   "execution_count": 611,
   "metadata": {},
   "outputs": [],
   "source": [
    "driver = webdriver.Chrome(r\"C:\\Users\\Admin\\Downloads\\chromedriver.exe\")\n",
    "driver.get(\" https://www.flipkart.com/apple-iphone-11-black-64-gb-includes-earpods-power-adapter/p/itm0f37c2240b217?pid=MOBFKCTSVZAXUHGR&lid=LSTMOBFKCTSVZAXUHGREPBFGI&marketplace.\")\n",
    "driver.maximize_window()\n",
    "\n",
    "#seeing all the reviews\n",
    "All_rev = driver.find_element_by_xpath(\"//div[@class='_3UAT2v _16PBlm']/span\")\n",
    "All_rev.click()"
   ]
  },
  {
   "cell_type": "code",
   "execution_count": 612,
   "metadata": {},
   "outputs": [],
   "source": [
    "Rating = []\n",
    "Review_summary = []\n",
    "Full_review = []\n",
    "\n",
    "while True:\n",
    "    time.sleep(3)\n",
    "    \n",
    "    for i in driver.find_elements_by_xpath(\"//div[@class = 'col _2wzgFH K0kLPL']/div[@class= 'row']/div\"):\n",
    "        Rating.append(i.text)\n",
    "        if len(Rating) == 200:\n",
    "            break \n",
    "            \n",
    "    for i in driver.find_elements_by_xpath(\"//div[@class= 'row']//p[@class = '_2-N8zT']\"):\n",
    "        Review_summary.append(i.text)\n",
    "        if len(Review_summary) == 100:\n",
    "            break \n",
    "            \n",
    "    for i in driver.find_elements_by_xpath(\"//div[@class= 't-ZTKy']//div[@class]\"):\n",
    "        Full_review.append(i.text.replace('\\n',''))\n",
    "        if len(Full_review) == 100:\n",
    "            break \n",
    "        \n",
    "    if len(Full_review) == 100:\n",
    "        break    \n",
    "                \n",
    "    for i in driver.find_elements_by_xpath(\"//nav[@class='yFHi8N']//a[@class='_1LKTO3']\"):\n",
    "        next=[i.get_attribute(\"href\")]\n",
    "    \n",
    "    time.sleep(3)\n",
    "        \n",
    "    for n in next:\n",
    "        driver.get(n)\n",
    "\n",
    "driver.close()\n",
    "\n",
    "\n"
   ]
  },
  {
   "cell_type": "code",
   "execution_count": 384,
   "metadata": {},
   "outputs": [
    {
     "data": {
      "text/html": [
       "<div>\n",
       "<style scoped>\n",
       "    .dataframe tbody tr th:only-of-type {\n",
       "        vertical-align: middle;\n",
       "    }\n",
       "\n",
       "    .dataframe tbody tr th {\n",
       "        vertical-align: top;\n",
       "    }\n",
       "\n",
       "    .dataframe thead th {\n",
       "        text-align: right;\n",
       "    }\n",
       "</style>\n",
       "<table border=\"1\" class=\"dataframe\">\n",
       "  <thead>\n",
       "    <tr style=\"text-align: right;\">\n",
       "      <th></th>\n",
       "      <th>Rating</th>\n",
       "      <th>Review_summary</th>\n",
       "      <th>Full review</th>\n",
       "    </tr>\n",
       "  </thead>\n",
       "  <tbody>\n",
       "    <tr>\n",
       "      <th>0</th>\n",
       "      <td>5</td>\n",
       "      <td>Brilliant</td>\n",
       "      <td>The Best Phone for the MoneyThe iPhone 11 offe...</td>\n",
       "    </tr>\n",
       "    <tr>\n",
       "      <th>1</th>\n",
       "      <td>5</td>\n",
       "      <td>Perfect product!</td>\n",
       "      <td>Amazing phone with great cameras and better ba...</td>\n",
       "    </tr>\n",
       "    <tr>\n",
       "      <th>2</th>\n",
       "      <td>5</td>\n",
       "      <td>Worth every penny</td>\n",
       "      <td>Previously I was using one plus 3t it was a gr...</td>\n",
       "    </tr>\n",
       "    <tr>\n",
       "      <th>3</th>\n",
       "      <td>5</td>\n",
       "      <td>Great product</td>\n",
       "      <td>Amazing Powerful and Durable Gadget.I’m am ver...</td>\n",
       "    </tr>\n",
       "    <tr>\n",
       "      <th>4</th>\n",
       "      <td>5</td>\n",
       "      <td>Highly recommended</td>\n",
       "      <td>iphone 11 is a very good phone to buy only if ...</td>\n",
       "    </tr>\n",
       "    <tr>\n",
       "      <th>...</th>\n",
       "      <td>...</td>\n",
       "      <td>...</td>\n",
       "      <td>...</td>\n",
       "    </tr>\n",
       "    <tr>\n",
       "      <th>95</th>\n",
       "      <td>5</td>\n",
       "      <td>Terrific</td>\n",
       "      <td>I got this beast today. And I must say the pic...</td>\n",
       "    </tr>\n",
       "    <tr>\n",
       "      <th>96</th>\n",
       "      <td>5</td>\n",
       "      <td>Worth every penny</td>\n",
       "      <td>iPhone is delivered on time. Display is great ...</td>\n",
       "    </tr>\n",
       "    <tr>\n",
       "      <th>97</th>\n",
       "      <td>5</td>\n",
       "      <td>Must buy!</td>\n",
       "      <td>I will just say its an awesome phone. Starting...</td>\n",
       "    </tr>\n",
       "    <tr>\n",
       "      <th>98</th>\n",
       "      <td>5</td>\n",
       "      <td>Worth every penny</td>\n",
       "      <td>Just go for it without a second thought, if yo...</td>\n",
       "    </tr>\n",
       "    <tr>\n",
       "      <th>99</th>\n",
       "      <td>5</td>\n",
       "      <td>Fabulous!</td>\n",
       "      <td>I really liked the budget iPhone. First I thou...</td>\n",
       "    </tr>\n",
       "  </tbody>\n",
       "</table>\n",
       "<p>100 rows × 3 columns</p>\n",
       "</div>"
      ],
      "text/plain": [
       "   Rating      Review_summary  \\\n",
       "0       5           Brilliant   \n",
       "1       5    Perfect product!   \n",
       "2       5   Worth every penny   \n",
       "3       5       Great product   \n",
       "4       5  Highly recommended   \n",
       "..    ...                 ...   \n",
       "95      5            Terrific   \n",
       "96      5   Worth every penny   \n",
       "97      5           Must buy!   \n",
       "98      5   Worth every penny   \n",
       "99      5           Fabulous!   \n",
       "\n",
       "                                          Full review  \n",
       "0   The Best Phone for the MoneyThe iPhone 11 offe...  \n",
       "1   Amazing phone with great cameras and better ba...  \n",
       "2   Previously I was using one plus 3t it was a gr...  \n",
       "3   Amazing Powerful and Durable Gadget.I’m am ver...  \n",
       "4   iphone 11 is a very good phone to buy only if ...  \n",
       "..                                                ...  \n",
       "95  I got this beast today. And I must say the pic...  \n",
       "96  iPhone is delivered on time. Display is great ...  \n",
       "97  I will just say its an awesome phone. Starting...  \n",
       "98  Just go for it without a second thought, if yo...  \n",
       "99  I really liked the budget iPhone. First I thou...  \n",
       "\n",
       "[100 rows x 3 columns]"
      ]
     },
     "execution_count": 384,
     "metadata": {},
     "output_type": "execute_result"
    }
   ],
   "source": [
    "i_phone11_review = pd.DataFrame({\"Rating\": Rat,\n",
    "                     \"Review_summary\" : Review_summary,\n",
    "                     \"Full review\" : Full_review})\n",
    "\n",
    "i_phone11_review.head(100)"
   ]
  },
  {
   "cell_type": "markdown",
   "metadata": {},
   "source": [
    "PART 8"
   ]
  },
  {
   "cell_type": "markdown",
   "metadata": {},
   "source": [
    "Scrape data for first 100 sneakers you find when you visit flipkart.com and search for “sneakers”"
   ]
  },
  {
   "cell_type": "code",
   "execution_count": 446,
   "metadata": {},
   "outputs": [],
   "source": [
    "driver=webdriver.Chrome(r\"C:\\Users\\Admin\\Downloads\\chromedriver.exe\")\n",
    "\n",
    "url='https://www.flipkart.com/'\n",
    "driver.get(url)\n"
   ]
  },
  {
   "cell_type": "code",
   "execution_count": 461,
   "metadata": {},
   "outputs": [],
   "source": [
    "brand_name=[]\n",
    "Product_Description=[]\n",
    "Price=[]\n",
    "Discount=[]"
   ]
  },
  {
   "cell_type": "code",
   "execution_count": 448,
   "metadata": {},
   "outputs": [],
   "source": [
    "time.sleep(3)\n",
    "\n",
    "\n",
    "prod_ser = driver.find_element_by_xpath(\"//div[@class='_3OO5Xc']//input[@type = 'text']\")\n",
    "prod_ser.send_keys(\"sneakers\")\n",
    "\n",
    "sub_button = driver.find_element_by_xpath(\"//div[@class = 'col-12-12 _2oO9oE']//button[@class = 'L0Z3Pu']\")\n",
    "sub_button.click()"
   ]
  },
  {
   "cell_type": "code",
   "execution_count": 475,
   "metadata": {},
   "outputs": [],
   "source": [
    "URL=[]\n",
    "for i in range(0,3):\n",
    "    sneakers=driver.find_elements_by_xpath(\"//a[@class='_2UzuFa']\")[0:100]\n",
    "    for i in sneakers:\n",
    "        URL.append(i.get_attribute('href'))\n",
    "    driver.find_element_by_xpath('//*[@id=\"container\"]/div/div[3]/div[1]/div[2]/div[12]/div/div/nav/a[11]').click()\n",
    "    time.sleep(3)"
   ]
  },
  {
   "cell_type": "code",
   "execution_count": 476,
   "metadata": {},
   "outputs": [
    {
     "data": {
      "text/plain": [
       "[<selenium.webdriver.remote.webelement.WebElement (session=\"33ff37a45deb71aa19253de65190bf5f\", element=\"83255d40-c11c-4b23-bc3d-c3e98aa35778\")>,\n",
       " <selenium.webdriver.remote.webelement.WebElement (session=\"33ff37a45deb71aa19253de65190bf5f\", element=\"7f93b84c-61fa-4bfa-afc0-652004eb1637\")>,\n",
       " <selenium.webdriver.remote.webelement.WebElement (session=\"33ff37a45deb71aa19253de65190bf5f\", element=\"afd6f4cd-5e34-4e59-ae4a-d0cc03354b8c\")>,\n",
       " <selenium.webdriver.remote.webelement.WebElement (session=\"33ff37a45deb71aa19253de65190bf5f\", element=\"5e55c5c7-bda3-410f-b395-2f18179cabb3\")>,\n",
       " <selenium.webdriver.remote.webelement.WebElement (session=\"33ff37a45deb71aa19253de65190bf5f\", element=\"774ac7f0-5321-4a48-85c4-9348f8530ec9\")>,\n",
       " <selenium.webdriver.remote.webelement.WebElement (session=\"33ff37a45deb71aa19253de65190bf5f\", element=\"db709974-358f-4af0-8b0f-b69af36c858e\")>,\n",
       " <selenium.webdriver.remote.webelement.WebElement (session=\"33ff37a45deb71aa19253de65190bf5f\", element=\"4b263c0d-e43d-4469-899a-e509fd73b911\")>,\n",
       " <selenium.webdriver.remote.webelement.WebElement (session=\"33ff37a45deb71aa19253de65190bf5f\", element=\"f1e50166-dcb7-4198-b2c1-5639a3a798c8\")>,\n",
       " <selenium.webdriver.remote.webelement.WebElement (session=\"33ff37a45deb71aa19253de65190bf5f\", element=\"9a540560-64df-48b5-8941-b0e2f00b73e4\")>,\n",
       " <selenium.webdriver.remote.webelement.WebElement (session=\"33ff37a45deb71aa19253de65190bf5f\", element=\"c943ede9-2857-4522-92bf-8cfa368db376\")>,\n",
       " <selenium.webdriver.remote.webelement.WebElement (session=\"33ff37a45deb71aa19253de65190bf5f\", element=\"7d9b8132-4c88-46ca-b87f-f4715d386b46\")>,\n",
       " <selenium.webdriver.remote.webelement.WebElement (session=\"33ff37a45deb71aa19253de65190bf5f\", element=\"14296d4e-2fc9-4dd5-afc0-cf73392c705f\")>,\n",
       " <selenium.webdriver.remote.webelement.WebElement (session=\"33ff37a45deb71aa19253de65190bf5f\", element=\"006e6354-5af4-4184-b886-252870487d63\")>,\n",
       " <selenium.webdriver.remote.webelement.WebElement (session=\"33ff37a45deb71aa19253de65190bf5f\", element=\"78e35c2f-6a24-401c-9b17-b21a7efb2b57\")>,\n",
       " <selenium.webdriver.remote.webelement.WebElement (session=\"33ff37a45deb71aa19253de65190bf5f\", element=\"7fd318c9-f969-4b83-8c76-d473bbb05ed2\")>,\n",
       " <selenium.webdriver.remote.webelement.WebElement (session=\"33ff37a45deb71aa19253de65190bf5f\", element=\"9c185fdc-c6ce-4a19-a516-37b8ea56b54a\")>,\n",
       " <selenium.webdriver.remote.webelement.WebElement (session=\"33ff37a45deb71aa19253de65190bf5f\", element=\"1f3ceb3f-d137-4b66-b6c8-07951a89db9f\")>,\n",
       " <selenium.webdriver.remote.webelement.WebElement (session=\"33ff37a45deb71aa19253de65190bf5f\", element=\"46131ef3-a959-428f-a7bd-e0ffd0e775f6\")>,\n",
       " <selenium.webdriver.remote.webelement.WebElement (session=\"33ff37a45deb71aa19253de65190bf5f\", element=\"8fce63af-a713-437d-b459-770d21574ab2\")>,\n",
       " <selenium.webdriver.remote.webelement.WebElement (session=\"33ff37a45deb71aa19253de65190bf5f\", element=\"95f1d6a4-eb67-4fd4-aab4-1d49260831b3\")>,\n",
       " <selenium.webdriver.remote.webelement.WebElement (session=\"33ff37a45deb71aa19253de65190bf5f\", element=\"5604b157-dc20-4560-a59d-a809b8db5e95\")>,\n",
       " <selenium.webdriver.remote.webelement.WebElement (session=\"33ff37a45deb71aa19253de65190bf5f\", element=\"fae79efa-90e2-4a08-a3d1-e4e4446bd537\")>,\n",
       " <selenium.webdriver.remote.webelement.WebElement (session=\"33ff37a45deb71aa19253de65190bf5f\", element=\"5a90b1d1-5595-44df-8448-c4a2f61b7090\")>,\n",
       " <selenium.webdriver.remote.webelement.WebElement (session=\"33ff37a45deb71aa19253de65190bf5f\", element=\"f0234130-c4bd-4768-8561-7197ff3195e9\")>,\n",
       " <selenium.webdriver.remote.webelement.WebElement (session=\"33ff37a45deb71aa19253de65190bf5f\", element=\"97306274-61b7-48ae-888a-fc2a159f6454\")>,\n",
       " <selenium.webdriver.remote.webelement.WebElement (session=\"33ff37a45deb71aa19253de65190bf5f\", element=\"ff2d3247-f71f-44c2-aeec-325119383cf6\")>,\n",
       " <selenium.webdriver.remote.webelement.WebElement (session=\"33ff37a45deb71aa19253de65190bf5f\", element=\"83dc6566-6ef7-46f4-98ca-48e308607d9f\")>,\n",
       " <selenium.webdriver.remote.webelement.WebElement (session=\"33ff37a45deb71aa19253de65190bf5f\", element=\"c214fff0-7f7c-4f4e-a170-a10b233f95d2\")>,\n",
       " <selenium.webdriver.remote.webelement.WebElement (session=\"33ff37a45deb71aa19253de65190bf5f\", element=\"2e8bef2d-538f-41b4-97f5-128f889114e1\")>,\n",
       " <selenium.webdriver.remote.webelement.WebElement (session=\"33ff37a45deb71aa19253de65190bf5f\", element=\"94c23fc5-a36e-451e-9450-5c31fe8d3522\")>,\n",
       " <selenium.webdriver.remote.webelement.WebElement (session=\"33ff37a45deb71aa19253de65190bf5f\", element=\"3178c5b4-9535-4688-a226-2c9b18b6694b\")>,\n",
       " <selenium.webdriver.remote.webelement.WebElement (session=\"33ff37a45deb71aa19253de65190bf5f\", element=\"87b7aa96-44d5-4bec-8d5a-fae18b54d7b2\")>,\n",
       " <selenium.webdriver.remote.webelement.WebElement (session=\"33ff37a45deb71aa19253de65190bf5f\", element=\"f9bf7415-65ef-44f9-b4ea-0757d7cf0dee\")>,\n",
       " <selenium.webdriver.remote.webelement.WebElement (session=\"33ff37a45deb71aa19253de65190bf5f\", element=\"7ee246e3-14ae-4a42-94bb-f5fc9d134e0c\")>,\n",
       " <selenium.webdriver.remote.webelement.WebElement (session=\"33ff37a45deb71aa19253de65190bf5f\", element=\"e265f917-0cfa-452b-ab7a-8051ca080839\")>,\n",
       " <selenium.webdriver.remote.webelement.WebElement (session=\"33ff37a45deb71aa19253de65190bf5f\", element=\"c6cdeea9-a979-49d1-9dd9-65beb00c7237\")>,\n",
       " <selenium.webdriver.remote.webelement.WebElement (session=\"33ff37a45deb71aa19253de65190bf5f\", element=\"cc06c9cd-019f-44df-a522-398328e192c9\")>,\n",
       " <selenium.webdriver.remote.webelement.WebElement (session=\"33ff37a45deb71aa19253de65190bf5f\", element=\"05ae2b94-9385-47f8-8278-634575c37d09\")>,\n",
       " <selenium.webdriver.remote.webelement.WebElement (session=\"33ff37a45deb71aa19253de65190bf5f\", element=\"1c078c32-bef3-4630-8e9c-f1699e6ac118\")>,\n",
       " <selenium.webdriver.remote.webelement.WebElement (session=\"33ff37a45deb71aa19253de65190bf5f\", element=\"2c44f322-a15f-4ac6-b471-91d4d698296d\")>]"
      ]
     },
     "execution_count": 476,
     "metadata": {},
     "output_type": "execute_result"
    }
   ],
   "source": [
    "brand_tag=driver.find_elements_by_xpath(\"//div[@class='_2WkVRV']\")\n",
    "brand_tag[0:100]"
   ]
  },
  {
   "cell_type": "code",
   "execution_count": 477,
   "metadata": {},
   "outputs": [
    {
     "data": {
      "text/plain": [
       "['French Connection',\n",
       " 'Robbie jones',\n",
       " 'Chevit',\n",
       " 'Robbie jones',\n",
       " 'Chevit',\n",
       " 'Robbie jones',\n",
       " 'Chevit',\n",
       " 'Shoes Bank',\n",
       " 'ORICUM',\n",
       " 'Chevit',\n",
       " 'aadi',\n",
       " 'believe',\n",
       " 'Red Rose',\n",
       " 'BRUTON',\n",
       " 'Magnolia',\n",
       " 'Raftar',\n",
       " 'bluemaker',\n",
       " 'Numenzo',\n",
       " 'D-SNEAKERZ',\n",
       " 'Chevit',\n",
       " 'Chevit',\n",
       " 'Chevit',\n",
       " 'T-ROCK',\n",
       " 'Chevit',\n",
       " '\"trend\"',\n",
       " 'Stefano Rads',\n",
       " 'KANEGGYE',\n",
       " 'Wika',\n",
       " 'SPARX',\n",
       " 'BRUTON',\n",
       " 'SWIGGY',\n",
       " 'richerson',\n",
       " 'Chevit',\n",
       " 'STRANGER BROTHERS',\n",
       " 'HOTSTYLE',\n",
       " 'TR',\n",
       " 'luxury fashion',\n",
       " 'Birde',\n",
       " 'Extoes',\n",
       " 'Bucik',\n",
       " 'ESSENCE',\n",
       " 'NIKE',\n",
       " 'PUMA',\n",
       " 'ELISEO',\n",
       " 'PUMA',\n",
       " 'Ktiz',\n",
       " 'Adiso',\n",
       " 'Magnolia',\n",
       " 'D-SNEAKERZ',\n",
       " 'richerson',\n",
       " 'PUMA',\n",
       " 'Wrogn',\n",
       " 'ROCKFIELD',\n",
       " 'pinstyle',\n",
       " 'Longwalk',\n",
       " 'Wrogn',\n",
       " 'Chevit',\n",
       " 'S37',\n",
       " 'Rising Wolf',\n",
       " 'Bucik',\n",
       " 'Chevit',\n",
       " 'PUMA',\n",
       " 'Woakers',\n",
       " 'Deals4you',\n",
       " 'PUMA',\n",
       " 'DUCATI',\n",
       " 'Vedboy',\n",
       " 'Bond Street By Red Tape',\n",
       " 'JACK & JONES',\n",
       " 'BRUTON',\n",
       " 'Zorth',\n",
       " 'Zsyto',\n",
       " 'LOTTO',\n",
       " 'Bonexy',\n",
       " 'DOLLER',\n",
       " 'PUMA',\n",
       " 'PUMA',\n",
       " 'ganpati traders',\n",
       " 'PUMA',\n",
       " 'ELISEO']"
      ]
     },
     "execution_count": 477,
     "metadata": {},
     "output_type": "execute_result"
    }
   ],
   "source": [
    "for i in brand_tag:\n",
    "    brand=i.text\n",
    "    brand_name.append(brand)\n",
    "brand_name[0:100]"
   ]
  },
  {
   "cell_type": "code",
   "execution_count": 478,
   "metadata": {},
   "outputs": [
    {
     "data": {
      "text/plain": [
       "[<selenium.webdriver.remote.webelement.WebElement (session=\"33ff37a45deb71aa19253de65190bf5f\", element=\"7e71badf-859e-44e0-a0f3-989ad9c7124b\")>,\n",
       " <selenium.webdriver.remote.webelement.WebElement (session=\"33ff37a45deb71aa19253de65190bf5f\", element=\"0ddb72f6-2a77-4570-a6f8-066cbb0892b4\")>,\n",
       " <selenium.webdriver.remote.webelement.WebElement (session=\"33ff37a45deb71aa19253de65190bf5f\", element=\"f234372a-0fa1-4b5d-a416-b77149eadf5e\")>,\n",
       " <selenium.webdriver.remote.webelement.WebElement (session=\"33ff37a45deb71aa19253de65190bf5f\", element=\"5ef43554-9c75-468c-8348-5331227cf5e9\")>,\n",
       " <selenium.webdriver.remote.webelement.WebElement (session=\"33ff37a45deb71aa19253de65190bf5f\", element=\"ed8bc7f9-5b3d-4130-8592-fe6b26cbcd9c\")>,\n",
       " <selenium.webdriver.remote.webelement.WebElement (session=\"33ff37a45deb71aa19253de65190bf5f\", element=\"5aab39c3-b2d6-4fd4-924c-c835215fab70\")>,\n",
       " <selenium.webdriver.remote.webelement.WebElement (session=\"33ff37a45deb71aa19253de65190bf5f\", element=\"1bc0e2cf-a5f7-4b8f-82d4-5143cc31b2d4\")>,\n",
       " <selenium.webdriver.remote.webelement.WebElement (session=\"33ff37a45deb71aa19253de65190bf5f\", element=\"649cfcba-d8cc-495a-b003-353e3235ded9\")>,\n",
       " <selenium.webdriver.remote.webelement.WebElement (session=\"33ff37a45deb71aa19253de65190bf5f\", element=\"9dc3d6f9-013f-4b4f-9ae1-271e6fd03335\")>,\n",
       " <selenium.webdriver.remote.webelement.WebElement (session=\"33ff37a45deb71aa19253de65190bf5f\", element=\"851f8281-b085-4797-9029-e898bc791ce4\")>,\n",
       " <selenium.webdriver.remote.webelement.WebElement (session=\"33ff37a45deb71aa19253de65190bf5f\", element=\"1cd44194-e3cd-4b8b-b946-a312693d5482\")>,\n",
       " <selenium.webdriver.remote.webelement.WebElement (session=\"33ff37a45deb71aa19253de65190bf5f\", element=\"c62be2e1-60a1-4421-9674-9afafe1207fc\")>,\n",
       " <selenium.webdriver.remote.webelement.WebElement (session=\"33ff37a45deb71aa19253de65190bf5f\", element=\"10e4b562-361b-4cdb-b1d9-853421a120ad\")>,\n",
       " <selenium.webdriver.remote.webelement.WebElement (session=\"33ff37a45deb71aa19253de65190bf5f\", element=\"00c0b4fb-6332-41e2-9d63-151030daacf6\")>,\n",
       " <selenium.webdriver.remote.webelement.WebElement (session=\"33ff37a45deb71aa19253de65190bf5f\", element=\"29daa569-aacb-4ffe-ba7a-3902903c397b\")>,\n",
       " <selenium.webdriver.remote.webelement.WebElement (session=\"33ff37a45deb71aa19253de65190bf5f\", element=\"c60eeea3-89ed-4242-9ffe-289e1d576705\")>,\n",
       " <selenium.webdriver.remote.webelement.WebElement (session=\"33ff37a45deb71aa19253de65190bf5f\", element=\"9ec009e7-dcda-4125-846c-5be4c1920f0f\")>,\n",
       " <selenium.webdriver.remote.webelement.WebElement (session=\"33ff37a45deb71aa19253de65190bf5f\", element=\"4b3cd95b-c199-4dbd-98a3-272af6bfd820\")>,\n",
       " <selenium.webdriver.remote.webelement.WebElement (session=\"33ff37a45deb71aa19253de65190bf5f\", element=\"f270ab8d-ed30-4e5e-96a0-9346fd2eba58\")>,\n",
       " <selenium.webdriver.remote.webelement.WebElement (session=\"33ff37a45deb71aa19253de65190bf5f\", element=\"3892b25a-6523-40a6-884d-abf6b9e8895d\")>,\n",
       " <selenium.webdriver.remote.webelement.WebElement (session=\"33ff37a45deb71aa19253de65190bf5f\", element=\"c082ed6c-c581-45fe-b5a2-5ae6b37bccbe\")>,\n",
       " <selenium.webdriver.remote.webelement.WebElement (session=\"33ff37a45deb71aa19253de65190bf5f\", element=\"455543e8-7141-4ea2-adaf-453180eabbb2\")>,\n",
       " <selenium.webdriver.remote.webelement.WebElement (session=\"33ff37a45deb71aa19253de65190bf5f\", element=\"fac54860-77d7-47e0-bb1b-9764b8867c6c\")>,\n",
       " <selenium.webdriver.remote.webelement.WebElement (session=\"33ff37a45deb71aa19253de65190bf5f\", element=\"28525998-b965-42f8-9465-a2f9a843dfd6\")>,\n",
       " <selenium.webdriver.remote.webelement.WebElement (session=\"33ff37a45deb71aa19253de65190bf5f\", element=\"24a2a788-ed3a-4307-84ff-81e1b25edc56\")>,\n",
       " <selenium.webdriver.remote.webelement.WebElement (session=\"33ff37a45deb71aa19253de65190bf5f\", element=\"e1f37c69-b5ce-4bf9-9396-9ac9509af3a8\")>,\n",
       " <selenium.webdriver.remote.webelement.WebElement (session=\"33ff37a45deb71aa19253de65190bf5f\", element=\"a7717816-49ae-4d03-b7fa-81194ac2c3b7\")>,\n",
       " <selenium.webdriver.remote.webelement.WebElement (session=\"33ff37a45deb71aa19253de65190bf5f\", element=\"b1aa7c94-8974-4c2f-9276-2d5a607770ba\")>,\n",
       " <selenium.webdriver.remote.webelement.WebElement (session=\"33ff37a45deb71aa19253de65190bf5f\", element=\"ce19b6cf-3fd5-443d-9dfc-ca2c73cf894b\")>,\n",
       " <selenium.webdriver.remote.webelement.WebElement (session=\"33ff37a45deb71aa19253de65190bf5f\", element=\"a5f6ed0e-9518-4804-ab3b-20f9b2864e0f\")>]"
      ]
     },
     "execution_count": 478,
     "metadata": {},
     "output_type": "execute_result"
    }
   ],
   "source": [
    "description_tag=driver.find_elements_by_xpath(\"//a[@class='IRpwTa']\")\n",
    "description_tag[0:100]\n"
   ]
  },
  {
   "cell_type": "code",
   "execution_count": 479,
   "metadata": {},
   "outputs": [
    {
     "data": {
      "text/plain": [
       "['Sneakers For Men',\n",
       " 'Casual Sneakers Shoes For Men Sneakers For Men',\n",
       " 'Perfect & Affordable Combo Pack of 02 Pairs Sneakers Ou...',\n",
       " 'Casual Sneakers Shoes For Men Sneakers For Men',\n",
       " \"Super & Trendy Men's Pack of 02 Pair Shoes for Boys Cas...\",\n",
       " 'Sneakers For Men',\n",
       " 'Combo Pack of 4 Casual Sneakers With Sneakers For Men',\n",
       " \"White Sneaker For Men's/Boy's Sneakers For Men\",\n",
       " 'Combo pack of 2 casual sneaker shoes for men Sneakers F...',\n",
       " 'Smart Casuals Canvas Shoes Combo pack of 2 Sneakers For...',\n",
       " 'Sneakers For Men',\n",
       " 'Sneakers for men(black_6) Sneakers For Men',\n",
       " 'Sneakers For Men',\n",
       " 'Combo Pack Of 4 Casual Sneakers For Men',\n",
       " 'White Sneakers Sneakers For Men',\n",
       " 'casual for men (blue 06) Sneakers For Men',\n",
       " 'Sneakers For Men',\n",
       " \"Casual , Partywear Sneakers Shoes For Men's And Boys Wh...\",\n",
       " \"Men's Combo Pack of 02 Shoes for Men Casual Sneakers Ou...\",\n",
       " '170 Smart Grey Lace-Ups Casuals for Men Sneakers For Me...',\n",
       " '494 Perfect Sports Shoes for Running Training Hikking &...',\n",
       " 'Synthetic Leather Casual Partywear Wedding Sneakers Sho...',\n",
       " 'Speed Set of 5 Pairs Sneakers Outdoors Casuals for Men ...',\n",
       " 'Fashionable casual sneakers shoes for men Sneakers For ...',\n",
       " 'Sneakers For Men',\n",
       " 'Sneakers For Men',\n",
       " 'Combo Pack Of 5 Casual Sneakers For Men',\n",
       " 'Casual Loafers, Sneakers Shoes for Men Pack of 5 Combo(...',\n",
       " '516 Trendy Star Perfect Sneakers For Men',\n",
       " 'Sneakers For Men',\n",
       " 'Fashionable casual sneaker shoes Sneakers For Men',\n",
       " \"Men's Stylish Casual Shoes Sneakers For Men\",\n",
       " 'Modern Trendy Shoes Combo pack of 4 Sneakers For Men',\n",
       " 'Black Casual Shoes Synthetic Leather for Men Sneakers F...',\n",
       " 'Trendy Sneakers For Men',\n",
       " 'Court Royale AC Sneakers For Men',\n",
       " 'Anzarun Sneakers For Men',\n",
       " 'Sneakers For Men',\n",
       " 'Pacer Next FFWD Sneakers For Men',\n",
       " 'casual Shoes For Men Sneakers For Men',\n",
       " 'Casual , Partywear Sneakers Shoes Color Sneakers For Me...',\n",
       " 'Court Legend Lo Sneakers For Men',\n",
       " 'Sneakers For Men',\n",
       " 'Sneakers For Men',\n",
       " 'Sneakers For Men',\n",
       " 'Sneakers For Men',\n",
       " 'Black Casual Shoes Synthetic Leather for Men Sneakers F...',\n",
       " '527 Latest & Affordable Shoes Sneakers For Men',\n",
       " 'Poise Perf IDP Sneakers For Men',\n",
       " 'Sneakers For Men',\n",
       " 'Puma Smash v2 Sneakers For Men',\n",
       " 'Sneakers For Men',\n",
       " 'Casual Boy Shoes in White Color Men Walking Running Gym...',\n",
       " 'Sneakers For Men',\n",
       " 'JFWMARC SUEDE COMBO Sneakers For Men',\n",
       " 'Men Combo Pack of 2 Sports Shoes & Casual Sneakers For ...',\n",
       " 'Sneakers For Men',\n",
       " 'STYLISH Sneakers For Men',\n",
       " 'ATLANTA NEO Sneakers For Men',\n",
       " 'Sneakers For Men',\n",
       " 'Smash v2 L White- Black Sneakers For Men',\n",
       " 'Ontario IDP Sneakers For Men',\n",
       " 'Simha IDP Sneakers For Men',\n",
       " 'Sneakers For Men']"
      ]
     },
     "execution_count": 479,
     "metadata": {},
     "output_type": "execute_result"
    }
   ],
   "source": [
    "for i in description_tag:\n",
    "    des=i.text\n",
    "    Product_Description.append(des)\n",
    "Product_Description[0:100]"
   ]
  },
  {
   "cell_type": "code",
   "execution_count": 480,
   "metadata": {},
   "outputs": [
    {
     "data": {
      "text/plain": [
       "[<selenium.webdriver.remote.webelement.WebElement (session=\"33ff37a45deb71aa19253de65190bf5f\", element=\"4277ea06-2778-442f-8694-63fced5ace68\")>,\n",
       " <selenium.webdriver.remote.webelement.WebElement (session=\"33ff37a45deb71aa19253de65190bf5f\", element=\"908c7b33-4c36-4757-aa54-2cf9d833fb64\")>,\n",
       " <selenium.webdriver.remote.webelement.WebElement (session=\"33ff37a45deb71aa19253de65190bf5f\", element=\"6144592e-737e-4666-bfb7-61ba0e129a71\")>,\n",
       " <selenium.webdriver.remote.webelement.WebElement (session=\"33ff37a45deb71aa19253de65190bf5f\", element=\"58d81730-76b7-4e9a-9a49-c51b01bce8c1\")>,\n",
       " <selenium.webdriver.remote.webelement.WebElement (session=\"33ff37a45deb71aa19253de65190bf5f\", element=\"f058f46e-5f4d-4baa-8405-ac57b919bc8b\")>,\n",
       " <selenium.webdriver.remote.webelement.WebElement (session=\"33ff37a45deb71aa19253de65190bf5f\", element=\"8288522b-e9e4-49be-9d14-2a91b2136a3d\")>,\n",
       " <selenium.webdriver.remote.webelement.WebElement (session=\"33ff37a45deb71aa19253de65190bf5f\", element=\"ead7bcff-3c42-44f8-b986-a43763a6f27e\")>,\n",
       " <selenium.webdriver.remote.webelement.WebElement (session=\"33ff37a45deb71aa19253de65190bf5f\", element=\"bd31440f-3363-4a27-bb4e-ab6820495981\")>,\n",
       " <selenium.webdriver.remote.webelement.WebElement (session=\"33ff37a45deb71aa19253de65190bf5f\", element=\"bfc5c88b-4408-497b-ba28-bfcc14489ae4\")>,\n",
       " <selenium.webdriver.remote.webelement.WebElement (session=\"33ff37a45deb71aa19253de65190bf5f\", element=\"558d5fa5-7f47-4b97-8038-0c24b9e4660d\")>,\n",
       " <selenium.webdriver.remote.webelement.WebElement (session=\"33ff37a45deb71aa19253de65190bf5f\", element=\"c30f80ea-53b4-4f73-b939-b26989cab280\")>,\n",
       " <selenium.webdriver.remote.webelement.WebElement (session=\"33ff37a45deb71aa19253de65190bf5f\", element=\"c83e6508-4769-4ce8-8e6a-3535b04a30ba\")>,\n",
       " <selenium.webdriver.remote.webelement.WebElement (session=\"33ff37a45deb71aa19253de65190bf5f\", element=\"12144cbc-55bc-4eb7-8b5a-532646804b7d\")>,\n",
       " <selenium.webdriver.remote.webelement.WebElement (session=\"33ff37a45deb71aa19253de65190bf5f\", element=\"7c9fe206-9dfc-4cce-b475-37ef577990a0\")>,\n",
       " <selenium.webdriver.remote.webelement.WebElement (session=\"33ff37a45deb71aa19253de65190bf5f\", element=\"7c0698fe-1a86-4c0d-a9ba-cc58d9e39d6c\")>,\n",
       " <selenium.webdriver.remote.webelement.WebElement (session=\"33ff37a45deb71aa19253de65190bf5f\", element=\"c4f3718b-7650-47e7-adb0-168817291d09\")>,\n",
       " <selenium.webdriver.remote.webelement.WebElement (session=\"33ff37a45deb71aa19253de65190bf5f\", element=\"691538e2-884b-4ec7-9e30-fd66849eedde\")>,\n",
       " <selenium.webdriver.remote.webelement.WebElement (session=\"33ff37a45deb71aa19253de65190bf5f\", element=\"27c25653-0507-4a3a-9d26-c2c1f56145a5\")>,\n",
       " <selenium.webdriver.remote.webelement.WebElement (session=\"33ff37a45deb71aa19253de65190bf5f\", element=\"cf4f4d4f-a0ee-46e9-bcee-497ebcebf74f\")>,\n",
       " <selenium.webdriver.remote.webelement.WebElement (session=\"33ff37a45deb71aa19253de65190bf5f\", element=\"941ddccb-3448-4df6-99af-d013d802464c\")>,\n",
       " <selenium.webdriver.remote.webelement.WebElement (session=\"33ff37a45deb71aa19253de65190bf5f\", element=\"c1f09bbd-0e2a-4523-b8dc-eb87a1d8e564\")>,\n",
       " <selenium.webdriver.remote.webelement.WebElement (session=\"33ff37a45deb71aa19253de65190bf5f\", element=\"12f8eed4-cf95-4a8a-8188-e89551e027fb\")>,\n",
       " <selenium.webdriver.remote.webelement.WebElement (session=\"33ff37a45deb71aa19253de65190bf5f\", element=\"9081f93a-7864-4b37-93aa-3770b947e125\")>,\n",
       " <selenium.webdriver.remote.webelement.WebElement (session=\"33ff37a45deb71aa19253de65190bf5f\", element=\"b4b088e8-74b3-4afd-b8d8-316d05416b29\")>,\n",
       " <selenium.webdriver.remote.webelement.WebElement (session=\"33ff37a45deb71aa19253de65190bf5f\", element=\"a24701ec-7dbe-4b65-ace2-af51daca15b9\")>,\n",
       " <selenium.webdriver.remote.webelement.WebElement (session=\"33ff37a45deb71aa19253de65190bf5f\", element=\"c3cc07e6-1c88-4df3-bf03-e8a35ca88536\")>,\n",
       " <selenium.webdriver.remote.webelement.WebElement (session=\"33ff37a45deb71aa19253de65190bf5f\", element=\"3f084760-24c4-4081-8254-e6f5f1a10062\")>,\n",
       " <selenium.webdriver.remote.webelement.WebElement (session=\"33ff37a45deb71aa19253de65190bf5f\", element=\"73a240cf-70d4-466e-bd62-998c17deda81\")>,\n",
       " <selenium.webdriver.remote.webelement.WebElement (session=\"33ff37a45deb71aa19253de65190bf5f\", element=\"77c20257-5046-47d9-95a8-5e5d26af086d\")>,\n",
       " <selenium.webdriver.remote.webelement.WebElement (session=\"33ff37a45deb71aa19253de65190bf5f\", element=\"140273c1-bcd9-47cf-a7c6-e071753d850e\")>,\n",
       " <selenium.webdriver.remote.webelement.WebElement (session=\"33ff37a45deb71aa19253de65190bf5f\", element=\"24fe396e-acac-4d19-8f6f-a9a38b4d2f3c\")>,\n",
       " <selenium.webdriver.remote.webelement.WebElement (session=\"33ff37a45deb71aa19253de65190bf5f\", element=\"3b7ccfd4-d758-45f1-813b-9213f9e097ad\")>,\n",
       " <selenium.webdriver.remote.webelement.WebElement (session=\"33ff37a45deb71aa19253de65190bf5f\", element=\"892b6f06-5c97-4d7d-a39a-b3e83bf9c20e\")>,\n",
       " <selenium.webdriver.remote.webelement.WebElement (session=\"33ff37a45deb71aa19253de65190bf5f\", element=\"a3a38b55-c010-459d-949d-4e031f8fffd1\")>,\n",
       " <selenium.webdriver.remote.webelement.WebElement (session=\"33ff37a45deb71aa19253de65190bf5f\", element=\"c558ce67-e000-42cf-8d64-b5caef97d227\")>,\n",
       " <selenium.webdriver.remote.webelement.WebElement (session=\"33ff37a45deb71aa19253de65190bf5f\", element=\"90f4431b-686e-4ba9-b5ba-bd48b8dd7a19\")>,\n",
       " <selenium.webdriver.remote.webelement.WebElement (session=\"33ff37a45deb71aa19253de65190bf5f\", element=\"100c292b-603e-48eb-9135-bb5ecad0af7f\")>,\n",
       " <selenium.webdriver.remote.webelement.WebElement (session=\"33ff37a45deb71aa19253de65190bf5f\", element=\"787a3a2f-5aa4-4c0b-b176-d8f1c58fe167\")>,\n",
       " <selenium.webdriver.remote.webelement.WebElement (session=\"33ff37a45deb71aa19253de65190bf5f\", element=\"d470b7c7-24cf-456f-a87b-4eb0b14fceae\")>,\n",
       " <selenium.webdriver.remote.webelement.WebElement (session=\"33ff37a45deb71aa19253de65190bf5f\", element=\"65877c08-feaf-4e1e-a7c8-db7420a29f5b\")>]"
      ]
     },
     "execution_count": 480,
     "metadata": {},
     "output_type": "execute_result"
    }
   ],
   "source": [
    "price_tag=driver.find_elements_by_xpath(\"//div[@class='_30jeq3']\")\n",
    "price_tag[0:100]"
   ]
  },
  {
   "cell_type": "code",
   "execution_count": 481,
   "metadata": {},
   "outputs": [
    {
     "data": {
      "text/plain": [
       "['₹680',\n",
       " '₹399',\n",
       " '₹499',\n",
       " '₹379',\n",
       " '₹420',\n",
       " '₹474',\n",
       " '₹474',\n",
       " '₹349',\n",
       " '₹398',\n",
       " '₹322',\n",
       " '₹298',\n",
       " '₹423',\n",
       " '₹379',\n",
       " '₹499',\n",
       " '₹330',\n",
       " '₹311',\n",
       " '₹419',\n",
       " '₹398',\n",
       " '₹367',\n",
       " '₹420',\n",
       " '₹211',\n",
       " '₹254',\n",
       " '₹386',\n",
       " '₹799',\n",
       " '₹499',\n",
       " '₹217',\n",
       " '₹324',\n",
       " '₹449',\n",
       " '₹699',\n",
       " '₹799',\n",
       " '₹679',\n",
       " '₹455',\n",
       " '₹339',\n",
       " '₹454',\n",
       " '₹172',\n",
       " '₹539',\n",
       " '₹379',\n",
       " '₹299',\n",
       " '₹795',\n",
       " '₹749',\n",
       " '₹424',\n",
       " '₹2,157',\n",
       " '₹2,519',\n",
       " '₹569',\n",
       " '₹1,949',\n",
       " '₹699',\n",
       " '₹429',\n",
       " '₹424',\n",
       " '₹398',\n",
       " '₹455',\n",
       " '₹2,702',\n",
       " '₹909',\n",
       " '₹399',\n",
       " '₹386',\n",
       " '₹284',\n",
       " '₹1,014',\n",
       " '₹420',\n",
       " '₹399',\n",
       " '₹485',\n",
       " '₹749',\n",
       " '₹329',\n",
       " '₹2,119',\n",
       " '₹471',\n",
       " '₹399',\n",
       " '₹1,559',\n",
       " '₹1,506',\n",
       " '₹389',\n",
       " '₹958',\n",
       " '₹1,349',\n",
       " '₹379',\n",
       " '₹699',\n",
       " '₹398',\n",
       " '₹899',\n",
       " '₹426',\n",
       " '₹474',\n",
       " '₹1,749',\n",
       " '₹1,047',\n",
       " '₹189',\n",
       " '₹1,529',\n",
       " '₹569']"
      ]
     },
     "execution_count": 481,
     "metadata": {},
     "output_type": "execute_result"
    }
   ],
   "source": [
    "for i in price_tag:\n",
    "    pri=i.text\n",
    "    Price.append(pri)\n",
    "Price[0:100]"
   ]
  },
  {
   "cell_type": "code",
   "execution_count": 482,
   "metadata": {},
   "outputs": [
    {
     "data": {
      "text/plain": [
       "[<selenium.webdriver.remote.webelement.WebElement (session=\"33ff37a45deb71aa19253de65190bf5f\", element=\"d46e5e2a-a097-406f-99ba-464f4627f7f7\")>,\n",
       " <selenium.webdriver.remote.webelement.WebElement (session=\"33ff37a45deb71aa19253de65190bf5f\", element=\"d39266d7-c90b-4ab8-83d3-308a41ea0cc6\")>,\n",
       " <selenium.webdriver.remote.webelement.WebElement (session=\"33ff37a45deb71aa19253de65190bf5f\", element=\"f53d92d4-e6db-4660-8687-1e328c98fac4\")>,\n",
       " <selenium.webdriver.remote.webelement.WebElement (session=\"33ff37a45deb71aa19253de65190bf5f\", element=\"8feb41b9-6da0-4ea8-a667-99a9e5ed572e\")>,\n",
       " <selenium.webdriver.remote.webelement.WebElement (session=\"33ff37a45deb71aa19253de65190bf5f\", element=\"d211f11d-dfca-41af-907f-f58c8dd27701\")>,\n",
       " <selenium.webdriver.remote.webelement.WebElement (session=\"33ff37a45deb71aa19253de65190bf5f\", element=\"50c1586a-6267-4db6-876b-700fbb4f3b32\")>,\n",
       " <selenium.webdriver.remote.webelement.WebElement (session=\"33ff37a45deb71aa19253de65190bf5f\", element=\"5161b6db-b6c3-42c7-889b-7b63d66926ad\")>,\n",
       " <selenium.webdriver.remote.webelement.WebElement (session=\"33ff37a45deb71aa19253de65190bf5f\", element=\"1e9a1465-3b8e-47b4-811c-0cc88da64b5a\")>,\n",
       " <selenium.webdriver.remote.webelement.WebElement (session=\"33ff37a45deb71aa19253de65190bf5f\", element=\"91b7843f-ff34-4ad2-9cef-3651bb44a208\")>,\n",
       " <selenium.webdriver.remote.webelement.WebElement (session=\"33ff37a45deb71aa19253de65190bf5f\", element=\"3bd69bf0-0553-467b-89ea-91d9c6021d66\")>,\n",
       " <selenium.webdriver.remote.webelement.WebElement (session=\"33ff37a45deb71aa19253de65190bf5f\", element=\"74905014-a46f-4ef5-9598-47192077384d\")>,\n",
       " <selenium.webdriver.remote.webelement.WebElement (session=\"33ff37a45deb71aa19253de65190bf5f\", element=\"5ac753a0-f94f-498d-b47e-63f5d1439e6a\")>,\n",
       " <selenium.webdriver.remote.webelement.WebElement (session=\"33ff37a45deb71aa19253de65190bf5f\", element=\"c6ba34b6-faf2-4647-8d9d-e25b2b5466c8\")>,\n",
       " <selenium.webdriver.remote.webelement.WebElement (session=\"33ff37a45deb71aa19253de65190bf5f\", element=\"ee64ba9e-d3ee-42c4-82a5-fac456750ddf\")>,\n",
       " <selenium.webdriver.remote.webelement.WebElement (session=\"33ff37a45deb71aa19253de65190bf5f\", element=\"968317a0-d4d8-41e8-a957-ba2856cca6c0\")>,\n",
       " <selenium.webdriver.remote.webelement.WebElement (session=\"33ff37a45deb71aa19253de65190bf5f\", element=\"df5a4f06-133f-4e8a-a67c-c3cf3282a39d\")>,\n",
       " <selenium.webdriver.remote.webelement.WebElement (session=\"33ff37a45deb71aa19253de65190bf5f\", element=\"326415e9-c3ca-4879-8f21-198a9bc9c2d0\")>,\n",
       " <selenium.webdriver.remote.webelement.WebElement (session=\"33ff37a45deb71aa19253de65190bf5f\", element=\"06c05ce1-2ca5-4519-a049-89e5ad1a4ad1\")>,\n",
       " <selenium.webdriver.remote.webelement.WebElement (session=\"33ff37a45deb71aa19253de65190bf5f\", element=\"843b3380-21f5-49fd-b8f0-76323ed37ed0\")>,\n",
       " <selenium.webdriver.remote.webelement.WebElement (session=\"33ff37a45deb71aa19253de65190bf5f\", element=\"69167fcf-c6be-4b96-8c1c-02e63bec8993\")>,\n",
       " <selenium.webdriver.remote.webelement.WebElement (session=\"33ff37a45deb71aa19253de65190bf5f\", element=\"d7d56b79-ddf9-476b-be3f-1a76e12e8bc0\")>,\n",
       " <selenium.webdriver.remote.webelement.WebElement (session=\"33ff37a45deb71aa19253de65190bf5f\", element=\"fa2798ba-7c75-46b4-9ccb-ea9646a8a394\")>,\n",
       " <selenium.webdriver.remote.webelement.WebElement (session=\"33ff37a45deb71aa19253de65190bf5f\", element=\"a166534a-7dc5-4f8e-b181-7e18bf1b518d\")>,\n",
       " <selenium.webdriver.remote.webelement.WebElement (session=\"33ff37a45deb71aa19253de65190bf5f\", element=\"32fdc0d1-71bf-40b1-ad63-43d9480f5770\")>,\n",
       " <selenium.webdriver.remote.webelement.WebElement (session=\"33ff37a45deb71aa19253de65190bf5f\", element=\"7dd22302-f9a5-4de6-b0eb-d4667ca2bf27\")>,\n",
       " <selenium.webdriver.remote.webelement.WebElement (session=\"33ff37a45deb71aa19253de65190bf5f\", element=\"2d6c7d9f-6494-4127-bc30-fff028106770\")>,\n",
       " <selenium.webdriver.remote.webelement.WebElement (session=\"33ff37a45deb71aa19253de65190bf5f\", element=\"a88cb911-7b0c-4b66-bb5e-4d3d36081471\")>,\n",
       " <selenium.webdriver.remote.webelement.WebElement (session=\"33ff37a45deb71aa19253de65190bf5f\", element=\"f8305e2b-10de-46ff-b8a4-ebe38b09fc24\")>,\n",
       " <selenium.webdriver.remote.webelement.WebElement (session=\"33ff37a45deb71aa19253de65190bf5f\", element=\"3262e562-7802-4c7a-bc09-fe49e8b90e45\")>,\n",
       " <selenium.webdriver.remote.webelement.WebElement (session=\"33ff37a45deb71aa19253de65190bf5f\", element=\"fff4241c-202d-4de4-ae97-65ca525ae226\")>,\n",
       " <selenium.webdriver.remote.webelement.WebElement (session=\"33ff37a45deb71aa19253de65190bf5f\", element=\"cc498481-9f4a-45a9-b309-fd840f2e3afd\")>,\n",
       " <selenium.webdriver.remote.webelement.WebElement (session=\"33ff37a45deb71aa19253de65190bf5f\", element=\"b88df09a-da45-4dfe-912f-bfc9fac97bcf\")>,\n",
       " <selenium.webdriver.remote.webelement.WebElement (session=\"33ff37a45deb71aa19253de65190bf5f\", element=\"7dfc57d7-ff3d-4144-bd85-95a427ed6b69\")>,\n",
       " <selenium.webdriver.remote.webelement.WebElement (session=\"33ff37a45deb71aa19253de65190bf5f\", element=\"803794de-0206-43f5-be8a-63471a228190\")>,\n",
       " <selenium.webdriver.remote.webelement.WebElement (session=\"33ff37a45deb71aa19253de65190bf5f\", element=\"78c58572-9ece-4ac9-8ba1-c006d1bfc774\")>,\n",
       " <selenium.webdriver.remote.webelement.WebElement (session=\"33ff37a45deb71aa19253de65190bf5f\", element=\"003136fa-087a-436f-abb2-bd8ab93ed8cd\")>,\n",
       " <selenium.webdriver.remote.webelement.WebElement (session=\"33ff37a45deb71aa19253de65190bf5f\", element=\"a70d9396-14db-49df-bf31-9032a1102a0c\")>,\n",
       " <selenium.webdriver.remote.webelement.WebElement (session=\"33ff37a45deb71aa19253de65190bf5f\", element=\"7d08adc1-4266-47b1-837a-bd8cfcb17f43\")>,\n",
       " <selenium.webdriver.remote.webelement.WebElement (session=\"33ff37a45deb71aa19253de65190bf5f\", element=\"0edbc850-7232-4cdf-98eb-6563903cfdf7\")>,\n",
       " <selenium.webdriver.remote.webelement.WebElement (session=\"33ff37a45deb71aa19253de65190bf5f\", element=\"8ebb91c1-8a37-4db1-81ec-6202e3abd7de\")>]"
      ]
     },
     "execution_count": 482,
     "metadata": {},
     "output_type": "execute_result"
    }
   ],
   "source": [
    "discount_tag=driver.find_elements_by_xpath(\"//div[@class='_3Ay6Sb']/span\")\n",
    "discount_tag[0:100]"
   ]
  },
  {
   "cell_type": "code",
   "execution_count": 483,
   "metadata": {},
   "outputs": [
    {
     "data": {
      "text/plain": [
       "['65% off',\n",
       " '60% off',\n",
       " '72% off',\n",
       " '62% off',\n",
       " '78% off',\n",
       " '52% off',\n",
       " '76% off',\n",
       " '65% off',\n",
       " '60% off',\n",
       " '67% off',\n",
       " '70% off',\n",
       " '57% off',\n",
       " '62% off',\n",
       " '87% off',\n",
       " '66% off',\n",
       " '68% off',\n",
       " '58% off',\n",
       " '60% off',\n",
       " '44% off',\n",
       " '57% off',\n",
       " '57% off',\n",
       " '74% off',\n",
       " '61% off',\n",
       " '67% off',\n",
       " '75% off',\n",
       " '68% off',\n",
       " '35% off',\n",
       " '55% off',\n",
       " '80% off',\n",
       " '72% off',\n",
       " '54% off',\n",
       " '57% off',\n",
       " '54% off',\n",
       " '65% off',\n",
       " '73% off',\n",
       " '87% off',\n",
       " '40% off',\n",
       " '46% off',\n",
       " '62% off',\n",
       " '57% off',\n",
       " '52% off',\n",
       " '58% off',\n",
       " '43% off',\n",
       " '70% off',\n",
       " '46% off',\n",
       " '57% off',\n",
       " '67% off',\n",
       " '60% off',\n",
       " '54% off',\n",
       " '49% off',\n",
       " '65% off',\n",
       " '60% off',\n",
       " '61% off',\n",
       " '43% off',\n",
       " '65% off',\n",
       " '57% off',\n",
       " '20% off',\n",
       " '75% off',\n",
       " '62% off',\n",
       " '58% off',\n",
       " '47% off',\n",
       " '68% off',\n",
       " '60% off',\n",
       " '61% off',\n",
       " '58% off',\n",
       " '61% off',\n",
       " '70% off',\n",
       " '70% off',\n",
       " '84% off',\n",
       " '30% off',\n",
       " '60% off',\n",
       " '55% off',\n",
       " '57% off',\n",
       " '52% off',\n",
       " '50% off',\n",
       " '65% off',\n",
       " '62% off',\n",
       " '49% off',\n",
       " '43% off']"
      ]
     },
     "execution_count": 483,
     "metadata": {},
     "output_type": "execute_result"
    }
   ],
   "source": [
    "for i in discount_tag:\n",
    "    disc=i.text\n",
    "    Discount.append(disc)\n",
    "Discount[0:100]"
   ]
  },
  {
   "cell_type": "code",
   "execution_count": 484,
   "metadata": {},
   "outputs": [
    {
     "ename": "ValueError",
     "evalue": "arrays must all be same length",
     "output_type": "error",
     "traceback": [
      "\u001b[1;31m---------------------------------------------------------------------------\u001b[0m",
      "\u001b[1;31mValueError\u001b[0m                                Traceback (most recent call last)",
      "\u001b[1;32m<ipython-input-484-bedeb2d16985>\u001b[0m in \u001b[0;36m<module>\u001b[1;34m\u001b[0m\n\u001b[1;32m----> 1\u001b[1;33m Flipkart_sneakers = pd.DataFrame({\"brand_name\": brand_name, \n\u001b[0m\u001b[0;32m      2\u001b[0m                                   \u001b[1;34m\"Product_Description\"\u001b[0m\u001b[1;33m:\u001b[0m \u001b[0mProduct_Description\u001b[0m\u001b[1;33m,\u001b[0m\u001b[1;33m\u001b[0m\u001b[1;33m\u001b[0m\u001b[0m\n\u001b[0;32m      3\u001b[0m                                   \u001b[1;34m\"Price\"\u001b[0m\u001b[1;33m:\u001b[0m \u001b[0mPrice\u001b[0m \u001b[1;33m,\u001b[0m\u001b[1;33m\u001b[0m\u001b[1;33m\u001b[0m\u001b[0m\n\u001b[0;32m      4\u001b[0m                                   \"Discount\": Discount})\n\u001b[0;32m      5\u001b[0m \u001b[0mFlipkart_sneakers\u001b[0m\u001b[1;33m\u001b[0m\u001b[1;33m\u001b[0m\u001b[0m\n",
      "\u001b[1;32m~\\Anaconda3\\lib\\site-packages\\pandas\\core\\frame.py\u001b[0m in \u001b[0;36m__init__\u001b[1;34m(self, data, index, columns, dtype, copy)\u001b[0m\n\u001b[0;32m    433\u001b[0m             )\n\u001b[0;32m    434\u001b[0m         \u001b[1;32melif\u001b[0m \u001b[0misinstance\u001b[0m\u001b[1;33m(\u001b[0m\u001b[0mdata\u001b[0m\u001b[1;33m,\u001b[0m \u001b[0mdict\u001b[0m\u001b[1;33m)\u001b[0m\u001b[1;33m:\u001b[0m\u001b[1;33m\u001b[0m\u001b[1;33m\u001b[0m\u001b[0m\n\u001b[1;32m--> 435\u001b[1;33m             \u001b[0mmgr\u001b[0m \u001b[1;33m=\u001b[0m \u001b[0minit_dict\u001b[0m\u001b[1;33m(\u001b[0m\u001b[0mdata\u001b[0m\u001b[1;33m,\u001b[0m \u001b[0mindex\u001b[0m\u001b[1;33m,\u001b[0m \u001b[0mcolumns\u001b[0m\u001b[1;33m,\u001b[0m \u001b[0mdtype\u001b[0m\u001b[1;33m=\u001b[0m\u001b[0mdtype\u001b[0m\u001b[1;33m)\u001b[0m\u001b[1;33m\u001b[0m\u001b[1;33m\u001b[0m\u001b[0m\n\u001b[0m\u001b[0;32m    436\u001b[0m         \u001b[1;32melif\u001b[0m \u001b[0misinstance\u001b[0m\u001b[1;33m(\u001b[0m\u001b[0mdata\u001b[0m\u001b[1;33m,\u001b[0m \u001b[0mma\u001b[0m\u001b[1;33m.\u001b[0m\u001b[0mMaskedArray\u001b[0m\u001b[1;33m)\u001b[0m\u001b[1;33m:\u001b[0m\u001b[1;33m\u001b[0m\u001b[1;33m\u001b[0m\u001b[0m\n\u001b[0;32m    437\u001b[0m             \u001b[1;32mimport\u001b[0m \u001b[0mnumpy\u001b[0m\u001b[1;33m.\u001b[0m\u001b[0mma\u001b[0m\u001b[1;33m.\u001b[0m\u001b[0mmrecords\u001b[0m \u001b[1;32mas\u001b[0m \u001b[0mmrecords\u001b[0m\u001b[1;33m\u001b[0m\u001b[1;33m\u001b[0m\u001b[0m\n",
      "\u001b[1;32m~\\Anaconda3\\lib\\site-packages\\pandas\\core\\internals\\construction.py\u001b[0m in \u001b[0;36minit_dict\u001b[1;34m(data, index, columns, dtype)\u001b[0m\n\u001b[0;32m    252\u001b[0m             \u001b[0marr\u001b[0m \u001b[1;32mif\u001b[0m \u001b[1;32mnot\u001b[0m \u001b[0mis_datetime64tz_dtype\u001b[0m\u001b[1;33m(\u001b[0m\u001b[0marr\u001b[0m\u001b[1;33m)\u001b[0m \u001b[1;32melse\u001b[0m \u001b[0marr\u001b[0m\u001b[1;33m.\u001b[0m\u001b[0mcopy\u001b[0m\u001b[1;33m(\u001b[0m\u001b[1;33m)\u001b[0m \u001b[1;32mfor\u001b[0m \u001b[0marr\u001b[0m \u001b[1;32min\u001b[0m \u001b[0marrays\u001b[0m\u001b[1;33m\u001b[0m\u001b[1;33m\u001b[0m\u001b[0m\n\u001b[0;32m    253\u001b[0m         ]\n\u001b[1;32m--> 254\u001b[1;33m     \u001b[1;32mreturn\u001b[0m \u001b[0marrays_to_mgr\u001b[0m\u001b[1;33m(\u001b[0m\u001b[0marrays\u001b[0m\u001b[1;33m,\u001b[0m \u001b[0mdata_names\u001b[0m\u001b[1;33m,\u001b[0m \u001b[0mindex\u001b[0m\u001b[1;33m,\u001b[0m \u001b[0mcolumns\u001b[0m\u001b[1;33m,\u001b[0m \u001b[0mdtype\u001b[0m\u001b[1;33m=\u001b[0m\u001b[0mdtype\u001b[0m\u001b[1;33m)\u001b[0m\u001b[1;33m\u001b[0m\u001b[1;33m\u001b[0m\u001b[0m\n\u001b[0m\u001b[0;32m    255\u001b[0m \u001b[1;33m\u001b[0m\u001b[0m\n\u001b[0;32m    256\u001b[0m \u001b[1;33m\u001b[0m\u001b[0m\n",
      "\u001b[1;32m~\\Anaconda3\\lib\\site-packages\\pandas\\core\\internals\\construction.py\u001b[0m in \u001b[0;36marrays_to_mgr\u001b[1;34m(arrays, arr_names, index, columns, dtype)\u001b[0m\n\u001b[0;32m     62\u001b[0m     \u001b[1;31m# figure out the index, if necessary\u001b[0m\u001b[1;33m\u001b[0m\u001b[1;33m\u001b[0m\u001b[1;33m\u001b[0m\u001b[0m\n\u001b[0;32m     63\u001b[0m     \u001b[1;32mif\u001b[0m \u001b[0mindex\u001b[0m \u001b[1;32mis\u001b[0m \u001b[1;32mNone\u001b[0m\u001b[1;33m:\u001b[0m\u001b[1;33m\u001b[0m\u001b[1;33m\u001b[0m\u001b[0m\n\u001b[1;32m---> 64\u001b[1;33m         \u001b[0mindex\u001b[0m \u001b[1;33m=\u001b[0m \u001b[0mextract_index\u001b[0m\u001b[1;33m(\u001b[0m\u001b[0marrays\u001b[0m\u001b[1;33m)\u001b[0m\u001b[1;33m\u001b[0m\u001b[1;33m\u001b[0m\u001b[0m\n\u001b[0m\u001b[0;32m     65\u001b[0m     \u001b[1;32melse\u001b[0m\u001b[1;33m:\u001b[0m\u001b[1;33m\u001b[0m\u001b[1;33m\u001b[0m\u001b[0m\n\u001b[0;32m     66\u001b[0m         \u001b[0mindex\u001b[0m \u001b[1;33m=\u001b[0m \u001b[0mensure_index\u001b[0m\u001b[1;33m(\u001b[0m\u001b[0mindex\u001b[0m\u001b[1;33m)\u001b[0m\u001b[1;33m\u001b[0m\u001b[1;33m\u001b[0m\u001b[0m\n",
      "\u001b[1;32m~\\Anaconda3\\lib\\site-packages\\pandas\\core\\internals\\construction.py\u001b[0m in \u001b[0;36mextract_index\u001b[1;34m(data)\u001b[0m\n\u001b[0;32m    363\u001b[0m             \u001b[0mlengths\u001b[0m \u001b[1;33m=\u001b[0m \u001b[0mlist\u001b[0m\u001b[1;33m(\u001b[0m\u001b[0mset\u001b[0m\u001b[1;33m(\u001b[0m\u001b[0mraw_lengths\u001b[0m\u001b[1;33m)\u001b[0m\u001b[1;33m)\u001b[0m\u001b[1;33m\u001b[0m\u001b[1;33m\u001b[0m\u001b[0m\n\u001b[0;32m    364\u001b[0m             \u001b[1;32mif\u001b[0m \u001b[0mlen\u001b[0m\u001b[1;33m(\u001b[0m\u001b[0mlengths\u001b[0m\u001b[1;33m)\u001b[0m \u001b[1;33m>\u001b[0m \u001b[1;36m1\u001b[0m\u001b[1;33m:\u001b[0m\u001b[1;33m\u001b[0m\u001b[1;33m\u001b[0m\u001b[0m\n\u001b[1;32m--> 365\u001b[1;33m                 \u001b[1;32mraise\u001b[0m \u001b[0mValueError\u001b[0m\u001b[1;33m(\u001b[0m\u001b[1;34m\"arrays must all be same length\"\u001b[0m\u001b[1;33m)\u001b[0m\u001b[1;33m\u001b[0m\u001b[1;33m\u001b[0m\u001b[0m\n\u001b[0m\u001b[0;32m    366\u001b[0m \u001b[1;33m\u001b[0m\u001b[0m\n\u001b[0;32m    367\u001b[0m             \u001b[1;32mif\u001b[0m \u001b[0mhave_dicts\u001b[0m\u001b[1;33m:\u001b[0m\u001b[1;33m\u001b[0m\u001b[1;33m\u001b[0m\u001b[0m\n",
      "\u001b[1;31mValueError\u001b[0m: arrays must all be same length"
     ]
    }
   ],
   "source": [
    "Flipkart_sneakers = pd.DataFrame({\"brand_name\": brand_name, \n",
    "                                  \"Product_Description\": Product_Description, \n",
    "                                  \"Price\": Price , \n",
    "                                  \"Discount\": Discount})\n",
    "Flipkart_sneakers"
   ]
  },
  {
   "cell_type": "code",
   "execution_count": 485,
   "metadata": {},
   "outputs": [
    {
     "name": "stdout",
     "output_type": "stream",
     "text": [
      "80 64 80 79\n"
     ]
    }
   ],
   "source": [
    "print(len(brand_name),len(Product_Description),len(Price),len(Discount))"
   ]
  },
  {
   "cell_type": "markdown",
   "metadata": {},
   "source": [
    "PART 9"
   ]
  },
  {
   "cell_type": "markdown",
   "metadata": {},
   "source": [
    "scrape First 100 shoes data you get. \n",
    "The data should include \n",
    "Brand of the shoes\n",
    "Short Shoe description\n",
    "price of the shoe"
   ]
  },
  {
   "cell_type": "code",
   "execution_count": 590,
   "metadata": {},
   "outputs": [],
   "source": [
    "driver=webdriver.Chrome(r\"C:\\Users\\Admin\\Downloads\\chromedriver.exe\")\n",
    "\n",
    "url='https://www.myntra.com/shoes'\n",
    "driver.get(url)\n",
    "\n",
    "Brand=[]\n",
    "Product_Description=[]\n",
    "Price=[]\n"
   ]
  },
  {
   "cell_type": "code",
   "execution_count": 601,
   "metadata": {},
   "outputs": [],
   "source": [
    "time.sleep(3)\n",
    "#selecting black color.\n",
    "Filter2 = driver.find_elements_by_xpath(\"//li[@class ='colour-listItem']//label[@class ='common-customCheckbox']/div[@class = 'common-checkboxIndicator']\") \n",
    "Filter2[0].click()\n",
    "\n",
    "time.sleep(5)\n",
    "#setting price filter\n",
    "Filter1 = driver.find_elements_by_xpath(\"//ul[@class ='price-list']//label[@class ='common-customCheckbox vertical-filters-label']/div[@class = 'common-checkboxIndicator']\") \n",
    "Filter1[1].click()"
   ]
  },
  {
   "cell_type": "code",
   "execution_count": 603,
   "metadata": {},
   "outputs": [],
   "source": [
    "Brand=[]\n",
    "Product_Description=[]\n",
    "Price=[]"
   ]
  },
  {
   "cell_type": "code",
   "execution_count": 604,
   "metadata": {},
   "outputs": [
    {
     "ename": "ElementClickInterceptedException",
     "evalue": "Message: element click intercepted: Element <a href=\"https://www.myntra.com/shoes?f=Color%3AWhite_f2f2f2&amp;plaEnabled=false&amp;rf=Price%3A6612.0_13075.0_6612.0%20TO%2013075.0%2C4678.0_9119.0_4678.0%20TO%209119.0&amp;p=2\">...</a> is not clickable at point (159, 9). Other element would receive the click: <div class=\"desktop-navContent\" data-reactid=\"177\">...</div>\n  (Session info: chrome=89.0.4389.114)\n",
     "output_type": "error",
     "traceback": [
      "\u001b[1;31m---------------------------------------------------------------------------\u001b[0m",
      "\u001b[1;31mElementClickInterceptedException\u001b[0m          Traceback (most recent call last)",
      "\u001b[1;32m<ipython-input-604-e63e30ce2b25>\u001b[0m in \u001b[0;36m<module>\u001b[1;34m\u001b[0m\n\u001b[0;32m      7\u001b[0m         \u001b[0mshoes3\u001b[0m\u001b[1;33m=\u001b[0m\u001b[0mi\u001b[0m\u001b[1;33m.\u001b[0m\u001b[0mfind_element_by_tag_name\u001b[0m\u001b[1;33m(\u001b[0m\u001b[1;34m\"a\"\u001b[0m\u001b[1;33m)\u001b[0m\u001b[1;33m\u001b[0m\u001b[1;33m\u001b[0m\u001b[0m\n\u001b[0;32m      8\u001b[0m         \u001b[0mURL\u001b[0m\u001b[1;33m.\u001b[0m\u001b[0mappend\u001b[0m\u001b[1;33m(\u001b[0m\u001b[0mshoes3\u001b[0m\u001b[1;33m.\u001b[0m\u001b[0mget_attribute\u001b[0m\u001b[1;33m(\u001b[0m\u001b[1;34m'href'\u001b[0m\u001b[1;33m)\u001b[0m\u001b[1;33m)\u001b[0m\u001b[1;33m\u001b[0m\u001b[1;33m\u001b[0m\u001b[0m\n\u001b[1;32m----> 9\u001b[1;33m     \u001b[0mdriver\u001b[0m\u001b[1;33m.\u001b[0m\u001b[0mfind_element_by_xpath\u001b[0m\u001b[1;33m(\u001b[0m\u001b[1;34m'//*[@id=\"desktopSearchResults\"]/div[2]/section/div[2]/ul/li[3]/a'\u001b[0m\u001b[1;33m)\u001b[0m\u001b[1;33m.\u001b[0m\u001b[0mclick\u001b[0m\u001b[1;33m(\u001b[0m\u001b[1;33m)\u001b[0m\u001b[1;33m\u001b[0m\u001b[1;33m\u001b[0m\u001b[0m\n\u001b[0m\u001b[0;32m     10\u001b[0m     \u001b[0mtime\u001b[0m\u001b[1;33m.\u001b[0m\u001b[0msleep\u001b[0m\u001b[1;33m(\u001b[0m\u001b[1;36m3\u001b[0m\u001b[1;33m)\u001b[0m\u001b[1;33m\u001b[0m\u001b[1;33m\u001b[0m\u001b[0m\n",
      "\u001b[1;32m~\\Anaconda3\\lib\\site-packages\\selenium\\webdriver\\remote\\webelement.py\u001b[0m in \u001b[0;36mclick\u001b[1;34m(self)\u001b[0m\n\u001b[0;32m     78\u001b[0m     \u001b[1;32mdef\u001b[0m \u001b[0mclick\u001b[0m\u001b[1;33m(\u001b[0m\u001b[0mself\u001b[0m\u001b[1;33m)\u001b[0m\u001b[1;33m:\u001b[0m\u001b[1;33m\u001b[0m\u001b[1;33m\u001b[0m\u001b[0m\n\u001b[0;32m     79\u001b[0m         \u001b[1;34m\"\"\"Clicks the element.\"\"\"\u001b[0m\u001b[1;33m\u001b[0m\u001b[1;33m\u001b[0m\u001b[0m\n\u001b[1;32m---> 80\u001b[1;33m         \u001b[0mself\u001b[0m\u001b[1;33m.\u001b[0m\u001b[0m_execute\u001b[0m\u001b[1;33m(\u001b[0m\u001b[0mCommand\u001b[0m\u001b[1;33m.\u001b[0m\u001b[0mCLICK_ELEMENT\u001b[0m\u001b[1;33m)\u001b[0m\u001b[1;33m\u001b[0m\u001b[1;33m\u001b[0m\u001b[0m\n\u001b[0m\u001b[0;32m     81\u001b[0m \u001b[1;33m\u001b[0m\u001b[0m\n\u001b[0;32m     82\u001b[0m     \u001b[1;32mdef\u001b[0m \u001b[0msubmit\u001b[0m\u001b[1;33m(\u001b[0m\u001b[0mself\u001b[0m\u001b[1;33m)\u001b[0m\u001b[1;33m:\u001b[0m\u001b[1;33m\u001b[0m\u001b[1;33m\u001b[0m\u001b[0m\n",
      "\u001b[1;32m~\\Anaconda3\\lib\\site-packages\\selenium\\webdriver\\remote\\webelement.py\u001b[0m in \u001b[0;36m_execute\u001b[1;34m(self, command, params)\u001b[0m\n\u001b[0;32m    631\u001b[0m             \u001b[0mparams\u001b[0m \u001b[1;33m=\u001b[0m \u001b[1;33m{\u001b[0m\u001b[1;33m}\u001b[0m\u001b[1;33m\u001b[0m\u001b[1;33m\u001b[0m\u001b[0m\n\u001b[0;32m    632\u001b[0m         \u001b[0mparams\u001b[0m\u001b[1;33m[\u001b[0m\u001b[1;34m'id'\u001b[0m\u001b[1;33m]\u001b[0m \u001b[1;33m=\u001b[0m \u001b[0mself\u001b[0m\u001b[1;33m.\u001b[0m\u001b[0m_id\u001b[0m\u001b[1;33m\u001b[0m\u001b[1;33m\u001b[0m\u001b[0m\n\u001b[1;32m--> 633\u001b[1;33m         \u001b[1;32mreturn\u001b[0m \u001b[0mself\u001b[0m\u001b[1;33m.\u001b[0m\u001b[0m_parent\u001b[0m\u001b[1;33m.\u001b[0m\u001b[0mexecute\u001b[0m\u001b[1;33m(\u001b[0m\u001b[0mcommand\u001b[0m\u001b[1;33m,\u001b[0m \u001b[0mparams\u001b[0m\u001b[1;33m)\u001b[0m\u001b[1;33m\u001b[0m\u001b[1;33m\u001b[0m\u001b[0m\n\u001b[0m\u001b[0;32m    634\u001b[0m \u001b[1;33m\u001b[0m\u001b[0m\n\u001b[0;32m    635\u001b[0m     \u001b[1;32mdef\u001b[0m \u001b[0mfind_element\u001b[0m\u001b[1;33m(\u001b[0m\u001b[0mself\u001b[0m\u001b[1;33m,\u001b[0m \u001b[0mby\u001b[0m\u001b[1;33m=\u001b[0m\u001b[0mBy\u001b[0m\u001b[1;33m.\u001b[0m\u001b[0mID\u001b[0m\u001b[1;33m,\u001b[0m \u001b[0mvalue\u001b[0m\u001b[1;33m=\u001b[0m\u001b[1;32mNone\u001b[0m\u001b[1;33m)\u001b[0m\u001b[1;33m:\u001b[0m\u001b[1;33m\u001b[0m\u001b[1;33m\u001b[0m\u001b[0m\n",
      "\u001b[1;32m~\\Anaconda3\\lib\\site-packages\\selenium\\webdriver\\remote\\webdriver.py\u001b[0m in \u001b[0;36mexecute\u001b[1;34m(self, driver_command, params)\u001b[0m\n\u001b[0;32m    319\u001b[0m         \u001b[0mresponse\u001b[0m \u001b[1;33m=\u001b[0m \u001b[0mself\u001b[0m\u001b[1;33m.\u001b[0m\u001b[0mcommand_executor\u001b[0m\u001b[1;33m.\u001b[0m\u001b[0mexecute\u001b[0m\u001b[1;33m(\u001b[0m\u001b[0mdriver_command\u001b[0m\u001b[1;33m,\u001b[0m \u001b[0mparams\u001b[0m\u001b[1;33m)\u001b[0m\u001b[1;33m\u001b[0m\u001b[1;33m\u001b[0m\u001b[0m\n\u001b[0;32m    320\u001b[0m         \u001b[1;32mif\u001b[0m \u001b[0mresponse\u001b[0m\u001b[1;33m:\u001b[0m\u001b[1;33m\u001b[0m\u001b[1;33m\u001b[0m\u001b[0m\n\u001b[1;32m--> 321\u001b[1;33m             \u001b[0mself\u001b[0m\u001b[1;33m.\u001b[0m\u001b[0merror_handler\u001b[0m\u001b[1;33m.\u001b[0m\u001b[0mcheck_response\u001b[0m\u001b[1;33m(\u001b[0m\u001b[0mresponse\u001b[0m\u001b[1;33m)\u001b[0m\u001b[1;33m\u001b[0m\u001b[1;33m\u001b[0m\u001b[0m\n\u001b[0m\u001b[0;32m    322\u001b[0m             response['value'] = self._unwrap_value(\n\u001b[0;32m    323\u001b[0m                 response.get('value', None))\n",
      "\u001b[1;32m~\\Anaconda3\\lib\\site-packages\\selenium\\webdriver\\remote\\errorhandler.py\u001b[0m in \u001b[0;36mcheck_response\u001b[1;34m(self, response)\u001b[0m\n\u001b[0;32m    240\u001b[0m                 \u001b[0malert_text\u001b[0m \u001b[1;33m=\u001b[0m \u001b[0mvalue\u001b[0m\u001b[1;33m[\u001b[0m\u001b[1;34m'alert'\u001b[0m\u001b[1;33m]\u001b[0m\u001b[1;33m.\u001b[0m\u001b[0mget\u001b[0m\u001b[1;33m(\u001b[0m\u001b[1;34m'text'\u001b[0m\u001b[1;33m)\u001b[0m\u001b[1;33m\u001b[0m\u001b[1;33m\u001b[0m\u001b[0m\n\u001b[0;32m    241\u001b[0m             \u001b[1;32mraise\u001b[0m \u001b[0mexception_class\u001b[0m\u001b[1;33m(\u001b[0m\u001b[0mmessage\u001b[0m\u001b[1;33m,\u001b[0m \u001b[0mscreen\u001b[0m\u001b[1;33m,\u001b[0m \u001b[0mstacktrace\u001b[0m\u001b[1;33m,\u001b[0m \u001b[0malert_text\u001b[0m\u001b[1;33m)\u001b[0m\u001b[1;33m\u001b[0m\u001b[1;33m\u001b[0m\u001b[0m\n\u001b[1;32m--> 242\u001b[1;33m         \u001b[1;32mraise\u001b[0m \u001b[0mexception_class\u001b[0m\u001b[1;33m(\u001b[0m\u001b[0mmessage\u001b[0m\u001b[1;33m,\u001b[0m \u001b[0mscreen\u001b[0m\u001b[1;33m,\u001b[0m \u001b[0mstacktrace\u001b[0m\u001b[1;33m)\u001b[0m\u001b[1;33m\u001b[0m\u001b[1;33m\u001b[0m\u001b[0m\n\u001b[0m\u001b[0;32m    243\u001b[0m \u001b[1;33m\u001b[0m\u001b[0m\n\u001b[0;32m    244\u001b[0m     \u001b[1;32mdef\u001b[0m \u001b[0m_value_or_default\u001b[0m\u001b[1;33m(\u001b[0m\u001b[0mself\u001b[0m\u001b[1;33m,\u001b[0m \u001b[0mobj\u001b[0m\u001b[1;33m,\u001b[0m \u001b[0mkey\u001b[0m\u001b[1;33m,\u001b[0m \u001b[0mdefault\u001b[0m\u001b[1;33m)\u001b[0m\u001b[1;33m:\u001b[0m\u001b[1;33m\u001b[0m\u001b[1;33m\u001b[0m\u001b[0m\n",
      "\u001b[1;31mElementClickInterceptedException\u001b[0m: Message: element click intercepted: Element <a href=\"https://www.myntra.com/shoes?f=Color%3AWhite_f2f2f2&amp;plaEnabled=false&amp;rf=Price%3A6612.0_13075.0_6612.0%20TO%2013075.0%2C4678.0_9119.0_4678.0%20TO%209119.0&amp;p=2\">...</a> is not clickable at point (159, 9). Other element would receive the click: <div class=\"desktop-navContent\" data-reactid=\"177\">...</div>\n  (Session info: chrome=89.0.4389.114)\n"
     ]
    }
   ],
   "source": [
    "URL=[]\n",
    "for i in range(0,2):\n",
    "    shoes=driver.find_elements_by_xpath(\"//li[@class='product-base']\")\n",
    "    for i in shoes:\n",
    "        #shoes1=i.find_element_by_tag_name(\"div\")\n",
    "        #shoes2=shoes1.find_element_by_tag_name(\"div\")\n",
    "        shoes3=i.find_element_by_tag_name(\"a\")\n",
    "        URL.append(shoes3.get_attribute('href'))\n",
    "    driver.find_element_by_xpath('//*[@id=\"desktopSearchResults\"]/div[2]/section/div[2]/ul/li[3]/a').click()\n",
    "    time.sleep(3)"
   ]
  },
  {
   "cell_type": "code",
   "execution_count": null,
   "metadata": {},
   "outputs": [],
   "source": []
  },
  {
   "cell_type": "code",
   "execution_count": null,
   "metadata": {},
   "outputs": [],
   "source": []
  },
  {
   "cell_type": "code",
   "execution_count": null,
   "metadata": {},
   "outputs": [],
   "source": []
  },
  {
   "cell_type": "code",
   "execution_count": null,
   "metadata": {},
   "outputs": [],
   "source": []
  },
  {
   "cell_type": "markdown",
   "metadata": {},
   "source": [
    "part 10"
   ]
  },
  {
   "cell_type": "code",
   "execution_count": 545,
   "metadata": {},
   "outputs": [],
   "source": [
    "driver=webdriver.Chrome(r\"C:\\Users\\Admin\\Downloads\\chromedriver.exe\")\n",
    "\n",
    "url='https://www.amazon.in/'\n",
    "driver.get(url)\n"
   ]
  },
  {
   "cell_type": "code",
   "execution_count": 546,
   "metadata": {},
   "outputs": [],
   "source": [
    "search_bar=driver.find_element_by_id(\"twotabsearchtextbox\")\n",
    "search_bar.clear()\n",
    "search_bar.send_keys(\"laptops\")\n",
    "search_button=driver.find_element_by_xpath('//span[@class=\"nav-search-submit-text nav-sprite nav-progressive-attribute\"]')\n",
    "search_button.click()"
   ]
  },
  {
   "cell_type": "code",
   "execution_count": 547,
   "metadata": {},
   "outputs": [],
   "source": [
    "filter_button = driver.find_elements_by_xpath(\"//a[@class ='a-link-normal s-navigation-item']/span\")\n",
    "\n",
    "for i in filter_button:\n",
    "    if i.text == 'Intel Core i7':\n",
    "        i.click()\n",
    "        break"
   ]
  },
  {
   "cell_type": "code",
   "execution_count": 548,
   "metadata": {},
   "outputs": [],
   "source": [
    "filter_button = driver.find_elements_by_xpath(\"//a[@class ='a-link-normal s-navigation-item']/span\")\n",
    "\n",
    "for i in filter_button:\n",
    "    if i.text == 'Intel Core i9':\n",
    "        i.click()\n",
    "        break"
   ]
  },
  {
   "cell_type": "code",
   "execution_count": 549,
   "metadata": {},
   "outputs": [],
   "source": [
    "Title=[]\n",
    "price=[]\n",
    "Ratings=[]\n"
   ]
  },
  {
   "cell_type": "code",
   "execution_count": 550,
   "metadata": {},
   "outputs": [],
   "source": [
    "title=driver.find_elements_by_xpath(\"//span[@class ='a-size-medium a-color-base a-text-normal']\")\n",
    "\n",
    "for i in title[:10]:\n",
    "    Title.append(i.text)"
   ]
  },
  {
   "cell_type": "code",
   "execution_count": 551,
   "metadata": {},
   "outputs": [
    {
     "data": {
      "text/plain": [
       "['Lenovo IdeaPad Flex 5 11th Gen Intel Core i7 14-inch FHD IPS 2-in-1 Touchscreen Laptop (16GB/512GB SSD/Win 10/Office 2019/Lenovo Digital Pen Stylus/Fingerprint Reader/Graphite Grey/1.5Kg), 82HS0092IN',\n",
       " 'ASUS ZenBook 14 (2020) Intel Core i7-1165G7 11th Gen 14-inch FHD Thin and Light Laptop (16GB RAM/512GB NVMe SSD/Windows 10/MS Office 2019/Intel Iris Xᵉ Graphics/Pine Grey/1.17 kg), UX425EA-BM701TS',\n",
       " 'ASUS ROG G703GI-E5148T 17.3-inch FHD 144Hz/3ms Gaming Laptop (8th Gen Intel Core i9-8950HK/64GB/2TB SSHD + 1.5TB NVMe SSD/Windows 10/GTX 1080 8GB Graphics/4.70 Kg), Aluminum',\n",
       " 'Lenovo Legion 5 10th Gen Intel Core i7 15.6 inch Full HD IPS Gaming Laptop (16GB/1TB HDD + 256GB SSD/Windows 10/120 Hz/NVIDIA GTX 1650 4GB GDDR6 Graphics/Phantom Black/2.3Kg), 82AU00KKIN',\n",
       " 'ASUS VivoBook S S14 Intel Core i7-1165G7 11th Gen, 14-inch FHD Thin and Light Laptop (8GB RAM/512GB SSD + 32GB Optane Memory/Windows 10/Office 2019/Iris X Graphics- Indie Black/1.4 Kg), S433EA-AM701TS',\n",
       " 'ASUS ZenBook 13 (2020) Intel Core i7-1065G7 10th Gen 13.3-inch FHD Thin and Light Laptop (16GB RAM/1TB NVMe SSD/Windows 10/MS Office 2019/Intel Iris Plus Graphics/Lilac Mist/1.11 kg), UX325JA-EG137TS',\n",
       " 'Dell Latitude 3410 14 Inch HD Intel Core i7 10th Gen ( 8GB / 1TB / Windows 10 Pro / 3 Years Warranty ) Business Laptop with STOLT Backpack',\n",
       " 'Dell G3 3500 Gaming 15.6inch 120hz FHD Display Laptop (10th Gen i7-10750H / 8 GB / 512 SSD / GTX 1650 4GB / 1Yr Premium Warranty/ Win 10 + MS Office H&S 2019) D560250WIN9BE',\n",
       " 'Lenovo IdeaPad Gaming 3 10th Gen Intel Core i7 15.6-inch FHD IPS Gaming Laptop (8GB/1TB HDD + 256 GB SSD/Windows 10/NVIDIA GTX 1650 4GB GDDR6/with M100 RGB Gaming Mouse/Onyx Black/2.2Kg), 81Y400VAIN',\n",
       " '(Renewed) HP Pavilion 15-Cs1002txin 2018 15.6-Inch Laptop (8th Gen Core I7-8565u/8GB/1TB/Windows 10 Home/4GB Nvidia Geforce Mx150 Graphics)']"
      ]
     },
     "execution_count": 551,
     "metadata": {},
     "output_type": "execute_result"
    }
   ],
   "source": [
    "Title"
   ]
  },
  {
   "cell_type": "code",
   "execution_count": 552,
   "metadata": {},
   "outputs": [],
   "source": [
    "pri=driver.find_elements_by_xpath(\"//span[@class ='a-price-whole']\")\n",
    "\n",
    "for i in pri[:10]:\n",
    "    price.append(i.text)\n",
    "    \n",
    "    \n"
   ]
  },
  {
   "cell_type": "code",
   "execution_count": 553,
   "metadata": {},
   "outputs": [
    {
     "data": {
      "text/plain": [
       "['86,790',\n",
       " '95,993',\n",
       " '5,22,077',\n",
       " '94,990',\n",
       " '77,990',\n",
       " '1,03,990',\n",
       " '88,990',\n",
       " '82,490',\n",
       " '77,990',\n",
       " '68,490']"
      ]
     },
     "execution_count": 553,
     "metadata": {},
     "output_type": "execute_result"
    }
   ],
   "source": [
    "price"
   ]
  },
  {
   "cell_type": "code",
   "execution_count": null,
   "metadata": {},
   "outputs": [],
   "source": [
    "<span id=\"acrCustomerReviewText\" class=\"a-size-base\">4 ratings</span>\n",
    "\n",
    "<span data-hook=\"rating-out-of-text\" class=\"a-size-medium a-color-base\">4.2 out of 5</span>"
   ]
  },
  {
   "cell_type": "code",
   "execution_count": 565,
   "metadata": {},
   "outputs": [
    {
     "name": "stdout",
     "output_type": "stream",
     "text": [
      "10\n",
      "10\n",
      "10\n"
     ]
    }
   ],
   "source": [
    "urls=driver.find_elements_by_xpath(\"//a[@class ='a-link-normal a-text-normal']\")\n",
    "UR=[]\n",
    "for i in urls[:10]:\n",
    "    UR.append(i.get_attribute('href'))\n",
    "    \n",
    "for url in UR:\n",
    "    driver.get(url)\n",
    "try:\n",
    "    rate=driver.find_element_by_xpath(\"//span[@id ='acrCustomerReviewText']\")\n",
    "    rate.click()\n",
    "    rating=driver.find_element_by_xpath(\"//span[@id ='a-size-medium a-color-base']\")\n",
    "    Ratings.append(rating.text)\n",
    "    \n",
    "except NoSuchElementException as e:\n",
    "    Ratings.append(\"No RATING\")\n",
    "    \n",
    "print(len(Title))\n",
    "print(len(price))\n",
    "print(len(Ratings)) "
   ]
  },
  {
   "cell_type": "code",
   "execution_count": 566,
   "metadata": {},
   "outputs": [
    {
     "ename": "ValueError",
     "evalue": "arrays must all be same length",
     "output_type": "error",
     "traceback": [
      "\u001b[1;31m---------------------------------------------------------------------------\u001b[0m",
      "\u001b[1;31mValueError\u001b[0m                                Traceback (most recent call last)",
      "\u001b[1;32m<ipython-input-566-64795c0dd1d6>\u001b[0m in \u001b[0;36m<module>\u001b[1;34m\u001b[0m\n\u001b[1;32m----> 1\u001b[1;33m laptop=pd.DataFrame({\"Title\": Title, \n\u001b[0m\u001b[0;32m      2\u001b[0m                                   \u001b[1;34m\"price\"\u001b[0m\u001b[1;33m:\u001b[0m \u001b[0mprice\u001b[0m\u001b[1;33m,\u001b[0m\u001b[1;33m\u001b[0m\u001b[1;33m\u001b[0m\u001b[0m\n\u001b[0;32m      3\u001b[0m                                   \u001b[1;34m\"Price\"\u001b[0m\u001b[1;33m:\u001b[0m \u001b[0mPrice\u001b[0m \u001b[1;33m,\u001b[0m\u001b[1;33m\u001b[0m\u001b[1;33m\u001b[0m\u001b[0m\n\u001b[0;32m      4\u001b[0m                                   \"Ratings\": Ratings})\n",
      "\u001b[1;32m~\\Anaconda3\\lib\\site-packages\\pandas\\core\\frame.py\u001b[0m in \u001b[0;36m__init__\u001b[1;34m(self, data, index, columns, dtype, copy)\u001b[0m\n\u001b[0;32m    433\u001b[0m             )\n\u001b[0;32m    434\u001b[0m         \u001b[1;32melif\u001b[0m \u001b[0misinstance\u001b[0m\u001b[1;33m(\u001b[0m\u001b[0mdata\u001b[0m\u001b[1;33m,\u001b[0m \u001b[0mdict\u001b[0m\u001b[1;33m)\u001b[0m\u001b[1;33m:\u001b[0m\u001b[1;33m\u001b[0m\u001b[1;33m\u001b[0m\u001b[0m\n\u001b[1;32m--> 435\u001b[1;33m             \u001b[0mmgr\u001b[0m \u001b[1;33m=\u001b[0m \u001b[0minit_dict\u001b[0m\u001b[1;33m(\u001b[0m\u001b[0mdata\u001b[0m\u001b[1;33m,\u001b[0m \u001b[0mindex\u001b[0m\u001b[1;33m,\u001b[0m \u001b[0mcolumns\u001b[0m\u001b[1;33m,\u001b[0m \u001b[0mdtype\u001b[0m\u001b[1;33m=\u001b[0m\u001b[0mdtype\u001b[0m\u001b[1;33m)\u001b[0m\u001b[1;33m\u001b[0m\u001b[1;33m\u001b[0m\u001b[0m\n\u001b[0m\u001b[0;32m    436\u001b[0m         \u001b[1;32melif\u001b[0m \u001b[0misinstance\u001b[0m\u001b[1;33m(\u001b[0m\u001b[0mdata\u001b[0m\u001b[1;33m,\u001b[0m \u001b[0mma\u001b[0m\u001b[1;33m.\u001b[0m\u001b[0mMaskedArray\u001b[0m\u001b[1;33m)\u001b[0m\u001b[1;33m:\u001b[0m\u001b[1;33m\u001b[0m\u001b[1;33m\u001b[0m\u001b[0m\n\u001b[0;32m    437\u001b[0m             \u001b[1;32mimport\u001b[0m \u001b[0mnumpy\u001b[0m\u001b[1;33m.\u001b[0m\u001b[0mma\u001b[0m\u001b[1;33m.\u001b[0m\u001b[0mmrecords\u001b[0m \u001b[1;32mas\u001b[0m \u001b[0mmrecords\u001b[0m\u001b[1;33m\u001b[0m\u001b[1;33m\u001b[0m\u001b[0m\n",
      "\u001b[1;32m~\\Anaconda3\\lib\\site-packages\\pandas\\core\\internals\\construction.py\u001b[0m in \u001b[0;36minit_dict\u001b[1;34m(data, index, columns, dtype)\u001b[0m\n\u001b[0;32m    252\u001b[0m             \u001b[0marr\u001b[0m \u001b[1;32mif\u001b[0m \u001b[1;32mnot\u001b[0m \u001b[0mis_datetime64tz_dtype\u001b[0m\u001b[1;33m(\u001b[0m\u001b[0marr\u001b[0m\u001b[1;33m)\u001b[0m \u001b[1;32melse\u001b[0m \u001b[0marr\u001b[0m\u001b[1;33m.\u001b[0m\u001b[0mcopy\u001b[0m\u001b[1;33m(\u001b[0m\u001b[1;33m)\u001b[0m \u001b[1;32mfor\u001b[0m \u001b[0marr\u001b[0m \u001b[1;32min\u001b[0m \u001b[0marrays\u001b[0m\u001b[1;33m\u001b[0m\u001b[1;33m\u001b[0m\u001b[0m\n\u001b[0;32m    253\u001b[0m         ]\n\u001b[1;32m--> 254\u001b[1;33m     \u001b[1;32mreturn\u001b[0m \u001b[0marrays_to_mgr\u001b[0m\u001b[1;33m(\u001b[0m\u001b[0marrays\u001b[0m\u001b[1;33m,\u001b[0m \u001b[0mdata_names\u001b[0m\u001b[1;33m,\u001b[0m \u001b[0mindex\u001b[0m\u001b[1;33m,\u001b[0m \u001b[0mcolumns\u001b[0m\u001b[1;33m,\u001b[0m \u001b[0mdtype\u001b[0m\u001b[1;33m=\u001b[0m\u001b[0mdtype\u001b[0m\u001b[1;33m)\u001b[0m\u001b[1;33m\u001b[0m\u001b[1;33m\u001b[0m\u001b[0m\n\u001b[0m\u001b[0;32m    255\u001b[0m \u001b[1;33m\u001b[0m\u001b[0m\n\u001b[0;32m    256\u001b[0m \u001b[1;33m\u001b[0m\u001b[0m\n",
      "\u001b[1;32m~\\Anaconda3\\lib\\site-packages\\pandas\\core\\internals\\construction.py\u001b[0m in \u001b[0;36marrays_to_mgr\u001b[1;34m(arrays, arr_names, index, columns, dtype)\u001b[0m\n\u001b[0;32m     62\u001b[0m     \u001b[1;31m# figure out the index, if necessary\u001b[0m\u001b[1;33m\u001b[0m\u001b[1;33m\u001b[0m\u001b[1;33m\u001b[0m\u001b[0m\n\u001b[0;32m     63\u001b[0m     \u001b[1;32mif\u001b[0m \u001b[0mindex\u001b[0m \u001b[1;32mis\u001b[0m \u001b[1;32mNone\u001b[0m\u001b[1;33m:\u001b[0m\u001b[1;33m\u001b[0m\u001b[1;33m\u001b[0m\u001b[0m\n\u001b[1;32m---> 64\u001b[1;33m         \u001b[0mindex\u001b[0m \u001b[1;33m=\u001b[0m \u001b[0mextract_index\u001b[0m\u001b[1;33m(\u001b[0m\u001b[0marrays\u001b[0m\u001b[1;33m)\u001b[0m\u001b[1;33m\u001b[0m\u001b[1;33m\u001b[0m\u001b[0m\n\u001b[0m\u001b[0;32m     65\u001b[0m     \u001b[1;32melse\u001b[0m\u001b[1;33m:\u001b[0m\u001b[1;33m\u001b[0m\u001b[1;33m\u001b[0m\u001b[0m\n\u001b[0;32m     66\u001b[0m         \u001b[0mindex\u001b[0m \u001b[1;33m=\u001b[0m \u001b[0mensure_index\u001b[0m\u001b[1;33m(\u001b[0m\u001b[0mindex\u001b[0m\u001b[1;33m)\u001b[0m\u001b[1;33m\u001b[0m\u001b[1;33m\u001b[0m\u001b[0m\n",
      "\u001b[1;32m~\\Anaconda3\\lib\\site-packages\\pandas\\core\\internals\\construction.py\u001b[0m in \u001b[0;36mextract_index\u001b[1;34m(data)\u001b[0m\n\u001b[0;32m    363\u001b[0m             \u001b[0mlengths\u001b[0m \u001b[1;33m=\u001b[0m \u001b[0mlist\u001b[0m\u001b[1;33m(\u001b[0m\u001b[0mset\u001b[0m\u001b[1;33m(\u001b[0m\u001b[0mraw_lengths\u001b[0m\u001b[1;33m)\u001b[0m\u001b[1;33m)\u001b[0m\u001b[1;33m\u001b[0m\u001b[1;33m\u001b[0m\u001b[0m\n\u001b[0;32m    364\u001b[0m             \u001b[1;32mif\u001b[0m \u001b[0mlen\u001b[0m\u001b[1;33m(\u001b[0m\u001b[0mlengths\u001b[0m\u001b[1;33m)\u001b[0m \u001b[1;33m>\u001b[0m \u001b[1;36m1\u001b[0m\u001b[1;33m:\u001b[0m\u001b[1;33m\u001b[0m\u001b[1;33m\u001b[0m\u001b[0m\n\u001b[1;32m--> 365\u001b[1;33m                 \u001b[1;32mraise\u001b[0m \u001b[0mValueError\u001b[0m\u001b[1;33m(\u001b[0m\u001b[1;34m\"arrays must all be same length\"\u001b[0m\u001b[1;33m)\u001b[0m\u001b[1;33m\u001b[0m\u001b[1;33m\u001b[0m\u001b[0m\n\u001b[0m\u001b[0;32m    366\u001b[0m \u001b[1;33m\u001b[0m\u001b[0m\n\u001b[0;32m    367\u001b[0m             \u001b[1;32mif\u001b[0m \u001b[0mhave_dicts\u001b[0m\u001b[1;33m:\u001b[0m\u001b[1;33m\u001b[0m\u001b[1;33m\u001b[0m\u001b[0m\n",
      "\u001b[1;31mValueError\u001b[0m: arrays must all be same length"
     ]
    }
   ],
   "source": [
    "laptop=pd.DataFrame({\"Title\": Title, \n",
    "                                  \"price\": price, \n",
    "                                  \"Price\": Price , \n",
    "                                  \"Ratings\": Ratings})"
   ]
  },
  {
   "cell_type": "code",
   "execution_count": null,
   "metadata": {},
   "outputs": [],
   "source": []
  }
 ],
 "metadata": {
  "kernelspec": {
   "display_name": "Python 3",
   "language": "python",
   "name": "python3"
  },
  "language_info": {
   "codemirror_mode": {
    "name": "ipython",
    "version": 3
   },
   "file_extension": ".py",
   "mimetype": "text/x-python",
   "name": "python",
   "nbconvert_exporter": "python",
   "pygments_lexer": "ipython3",
   "version": "3.8.3"
  }
 },
 "nbformat": 4,
 "nbformat_minor": 4
}
